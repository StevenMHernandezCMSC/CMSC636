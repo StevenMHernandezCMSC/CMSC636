{
  "nbformat": 4,
  "nbformat_minor": 0,
  "metadata": {
    "colab": {
      "name": "hw4_dbn.ipynb",
      "version": "0.3.2",
      "provenance": []
    },
    "language_info": {
      "codemirror_mode": {
        "name": "ipython",
        "version": 3
      },
      "file_extension": ".py",
      "mimetype": "text/x-python",
      "name": "python",
      "nbconvert_exporter": "python",
      "pygments_lexer": "ipython3",
      "version": "3.7.2"
    },
    "kernelspec": {
      "name": "python3",
      "display_name": "Python 3"
    },
    "accelerator": "GPU"
  },
  "cells": [
    {
      "metadata": {
        "id": "NOZLIrjB9Ejx",
        "colab_type": "text"
      },
      "cell_type": "markdown",
      "source": [
        "# CMSC 636, HW4: Deep Belief Network on MNIST"
      ]
    },
    {
      "metadata": {
        "id": "qUDOpm9d9Ejy",
        "colab_type": "code",
        "colab": {}
      },
      "cell_type": "code",
      "source": [
        "import numpy as np\n",
        "import tensorflow as tf\n",
        "from types import SimpleNamespace\n",
        "\n",
        "import matplotlib.pyplot as plt\n",
        "import matplotlib.image as mpimg\n",
        "from IPython.display import clear_output\n",
        "%matplotlib inline"
      ],
      "execution_count": 0,
      "outputs": []
    },
    {
      "metadata": {
        "id": "9cuJH6Ar9Ej1",
        "colab_type": "text"
      },
      "cell_type": "markdown",
      "source": [
        "## Load MNIST"
      ]
    },
    {
      "metadata": {
        "id": "u3yvsfI69Ej1",
        "colab_type": "code",
        "colab": {}
      },
      "cell_type": "code",
      "source": [
        "# load mnist dataset with labels encoded as one-hot vectors\n",
        "class Dataset():\n",
        "    def __init__(self, data):\n",
        "        self.data = data\n",
        "        self.index = 0\n",
        "        self.epochs = 0\n",
        "\n",
        "    def shuffle(self):\n",
        "        perm = np.arange(self.data[0].shape[0])\n",
        "        np.random.shuffle(perm)\n",
        "        self.data = tuple(datai[perm] for datai in self.data)\n",
        "    \n",
        "    def next_batch(self, batch_size):\n",
        "        start = self.index\n",
        "        end = self.index + batch_size\n",
        "        if end > self.data[0].shape[0]:\n",
        "            self.epochs += 1\n",
        "            self.shuffle()\n",
        "            self.index, start = 0, 0\n",
        "            end = batch_size\n",
        "        self.index = end\n",
        "        return tuple(datai[start:end, ...] for datai in self.data)\n",
        "            \n",
        "def load_mnist():\n",
        "    def preprocess(data, labels, num_classes):\n",
        "        # flatten images\n",
        "        data = data.astype(np.float32)/255.0\n",
        "        data = np.reshape(data, [data.shape[0], -1])\n",
        "        # one hot encoding\n",
        "        num_labels = labels.shape[0]\n",
        "        index_offset = np.arange(num_labels) * num_classes\n",
        "        labels_one_hot = np.zeros((num_labels, num_classes))\n",
        "        labels_one_hot.flat[index_offset + labels.ravel()] = 1\n",
        "        return data, labels_one_hot\n",
        "    train, test = tf.keras.datasets.mnist.load_data()\n",
        "    train = preprocess(train[0], train[1], 10)\n",
        "    test = preprocess(test[0], test[1], 10)\n",
        "    return SimpleNamespace(\n",
        "        train=Dataset(train), \n",
        "        test=Dataset(test))\n",
        "mnist = load_mnist()"
      ],
      "execution_count": 0,
      "outputs": []
    },
    {
      "metadata": {
        "id": "Otq3gyz59Ej3",
        "colab_type": "text"
      },
      "cell_type": "markdown",
      "source": [
        "## Model definition"
      ]
    },
    {
      "metadata": {
        "id": "V-AMx_tq9Ej4",
        "colab_type": "code",
        "colab": {
          "base_uri": "https://localhost:8080/",
          "height": 71
        },
        "outputId": "7c24355c-2b9a-4d18-a0e7-e5f6fd73be3f"
      },
      "cell_type": "code",
      "source": [
        "sess = tf.InteractiveSession()"
      ],
      "execution_count": 29,
      "outputs": [
        {
          "output_type": "stream",
          "text": [
            "/usr/local/lib/python3.6/dist-packages/tensorflow/python/client/session.py:1702: UserWarning: An interactive session is already active. This can cause out-of-memory errors in some cases. You must explicitly call `InteractiveSession.close()` to release resources held by the other session(s).\n",
            "  warnings.warn('An interactive session is already active. This can '\n"
          ],
          "name": "stderr"
        }
      ]
    },
    {
      "metadata": {
        "id": "oUzus7j_9Ej6",
        "colab_type": "code",
        "colab": {}
      },
      "cell_type": "code",
      "source": [
        "def bernoulli_sample_tf(x):\n",
        "    ''' sample from bernoulli distribution given a tf matrix '''\n",
        "    in_shape= x.get_shape().as_list()\n",
        "    uniform_samp = tf.random_uniform(shape=(in_shape[0], in_shape[1]), minval=0.0, maxval=1.0) \n",
        "    return tf.to_float(tf.greater(x, uniform_samp))"
      ],
      "execution_count": 0,
      "outputs": []
    },
    {
      "metadata": {
        "id": "wO3tseyb9Ej8",
        "colab_type": "text"
      },
      "cell_type": "markdown",
      "source": [
        "Implement the contrastive divergence update rule for the rbm, using a mini-batch of  𝑀  samples:\n",
        "\n",
        "𝑊←𝑊+𝛼Δ𝑊  \n",
        "𝑏←𝑏+𝛼Δ𝑏  \n",
        "𝑐←𝑐+𝛼Δ𝑐  \n",
        "\n",
        "Where:\n",
        "\n",
        "𝑊∈×,b∈,c∈  \n",
        "\n",
        "𝑋∈×  , is the matrix composed by the training samples in the mini-batch. Each row of  𝑋  is a training sample \n",
        "\n",
        "Δ𝑊=1𝑀(𝑋𝑇ℎ(𝑥)−𝑋𝑇𝑠ℎ(𝑋𝑠))  \n",
        "\n",
        "Δ𝑏=𝑚𝑒𝑎𝑛((ℎ(𝑋)−ℎ(𝑋𝑠)))  \n",
        "\n",
        "Δ𝑐=𝑚𝑒𝑎𝑛((𝑋−𝑋𝑠))  \n",
        "\n",
        "ℎ(𝑋)=𝜎(𝑋𝑊+𝑏);𝜎(𝑥)=11+exp(−𝑥) \n",
        "Note: The model uses Bernoulli visible and hidden layers"
      ]
    },
    {
      "metadata": {
        "id": "OqeDCj9p9Ej8",
        "colab_type": "code",
        "colab": {}
      },
      "cell_type": "code",
      "source": [
        "# Complete the following function using the code from the hw4_rbm script \n",
        "def rbm_model(X, W, b, c, k, alpha):\n",
        "    # K gibbs sampling\n",
        "    Xs = X;\n",
        "    for i in range(k):\n",
        "        hs_prob = tf.sigmoid(tf.matmul(Xs, W) + b)\n",
        "        hs = bernoulli_sample_tf(hs_prob)\n",
        "        Xs_prob = tf.sigmoid(tf.matmul(hs, tf.transpose(W)) + c)\n",
        "        Xs = bernoulli_sample_tf(Xs_prob)\n",
        "\n",
        "    # Parameter update:\n",
        "    h_x =   tf.sigmoid(tf.matmul(X,W) + b)# Complete: compute h(X)\n",
        "    h_xs =  tf.sigmoid(tf.matmul(Xs,W) + b)# Complete: compute h(Xs)\n",
        "\n",
        "    dW = 1/batch_size * (tf.matmul(tf.transpose(X),h_x) - tf.matmul(tf.transpose(Xs),h_xs))# Complete: follow update equations\n",
        "\n",
        "    db = 1/k * (h_x - h_xs)# Complete: follow update equations\n",
        "    dc = 1/k * (X - Xs)  # Complete: follow update equations\n",
        "\n",
        "    op_W= W.assign_add( alpha*dW )\n",
        "    op_b= b.assign_add( alpha*db )\n",
        "    op_c= c.assign_add( alpha*dc )\n",
        "\n",
        "    update_weights = tf.group( op_W, op_b, op_c )\n",
        "    \n",
        "    return update_weights, Xs_prob, h_x, h_xs"
      ],
      "execution_count": 0,
      "outputs": []
    },
    {
      "metadata": {
        "id": "ku9-GCZO9Ej-",
        "colab_type": "code",
        "colab": {}
      },
      "cell_type": "code",
      "source": [
        "n_inputs= 28*28         # Complete: number of input units (i.e. V)\n",
        "n_hidden= [100, 20]     # number of hidden units (i.e. H), try different values\n",
        "batch_size= 500         # number of samples on the mini-batch (i.e. M)\n",
        "\n",
        "k= 5       #Try different values\n",
        "\n",
        "X = tf.placeholder( tf.float32, shape=(batch_size, n_inputs))\n",
        "\n",
        "# Definition of first RBM model\n",
        "W1= tf.Variable(tf.zeros([n_inputs, n_hidden[0]]))# Complete: weight matrix for the rbm model on the first layer\n",
        "b1= tf.Variable(tf.zeros([batch_size, n_hidden[0]]))# Complete: b vector for the rbm model on the first layer\n",
        "c1= tf.Variable(tf.zeros([batch_size, n_inputs]))# Complete: c vector for the rbm model on the first layer\n",
        "\n",
        "# alpha= 0.1  #Try different values\n",
        "# alpha = 2\n",
        "alpha = 100\n",
        "update_weights1, Xs_prob, h1_x, h1_xs = rbm_model( X, W1, b1, c1, k, alpha )\n",
        "\n",
        "# Definition of second RBM model \n",
        "W2= tf.Variable(tf.zeros([n_hidden[0], n_hidden[1]]))# Complete: weight matrix for the rbm model of the second layer\n",
        "b2= tf.Variable(tf.zeros([batch_size, n_hidden[1]]))# Complete: b vector for the rbm model on the second layer\n",
        "c2= tf.Variable(tf.zeros([batch_size, n_hidden[0]]))# Complete: c vector for the rbm model on the second layer\n",
        "\n",
        "# alpha= 0.1 #Try different values\n",
        "# alpha = 2\n",
        "update_weights2, h1s_prob, h2_h1, h2_h1s = rbm_model( h1_x, W2, b2, c2, k, alpha )"
      ],
      "execution_count": 0,
      "outputs": []
    },
    {
      "metadata": {
        "id": "mDqCDghd9EkA",
        "colab_type": "text"
      },
      "cell_type": "markdown",
      "source": [
        "## Sampling"
      ]
    },
    {
      "metadata": {
        "id": "gJGsWJLb9EkB",
        "colab_type": "code",
        "colab": {}
      },
      "cell_type": "code",
      "source": [
        "Xs_prob_h2 = tf.sigmoid(tf.matmul(h1s_prob, tf.transpose(W1)) + c1) # samples given X while training second RBM\n",
        "\n",
        "# random samples from DBN model starting with random h1 samples\n",
        "h1st = tf.random_uniform(shape=(batch_size, n_hidden[0]), minval=0, maxval=1)\n",
        "for i in range(10):\n",
        "    Xst_prob = tf.sigmoid(tf.matmul(h1st, tf.transpose(W1)) + c1)\n",
        "    Xst = bernoulli_sample_tf(Xst_prob)\n",
        "    h1st_prob = tf.sigmoid(tf.matmul(Xst, W1) + b1)\n",
        "    h1st = bernoulli_sample_tf(h1st_prob)\n",
        "Xst_prob_h1st = tf.sigmoid(tf.matmul(h1st, tf.transpose(W1)) + c1) # X generated from random h1\n",
        "\n",
        "\n",
        "# random samples from DBN model starting with random h2 samples\n",
        "h2st = tf.random_uniform(shape=(batch_size, n_hidden[1]), minval=0, maxval=1)\n",
        "for i in range(10):\n",
        "    h1st_prob = tf.sigmoid(tf.matmul(h2st, tf.transpose(W2)) + c2)\n",
        "    h1st = bernoulli_sample_tf(h1st_prob)\n",
        "    h2st_prob = tf.sigmoid(tf.matmul(h1st, W2) + b2)\n",
        "    h2st = bernoulli_sample_tf(h2st_prob)\n",
        "Xst_prob_h2st = tf.sigmoid(tf.matmul(h1st, tf.transpose(W1)) + c1) # X generated from random h2"
      ],
      "execution_count": 0,
      "outputs": []
    },
    {
      "metadata": {
        "id": "Ydd7HWUH9EkD",
        "colab_type": "text"
      },
      "cell_type": "markdown",
      "source": [
        "## Training"
      ]
    },
    {
      "metadata": {
        "id": "A_3EFK8v9EkD",
        "colab_type": "code",
        "colab": {
          "base_uri": "https://localhost:8080/",
          "height": 34
        },
        "outputId": "500021f1-1764-456a-ad6c-a0242bd4eeee"
      },
      "cell_type": "code",
      "source": [
        "init = tf.global_variables_initializer()\n",
        "sess.run(init)\n",
        "print('Initialized')"
      ],
      "execution_count": 34,
      "outputs": [
        {
          "output_type": "stream",
          "text": [
            "Initialized\n"
          ],
          "name": "stdout"
        }
      ]
    },
    {
      "metadata": {
        "id": "qoxY7bwK9EkI",
        "colab_type": "text"
      },
      "cell_type": "markdown",
      "source": [
        "### Training of layer 1 (first RBM)"
      ]
    },
    {
      "metadata": {
        "id": "no5Q-a6C9EkI",
        "colab_type": "code",
        "colab": {
          "base_uri": "https://localhost:8080/",
          "height": 503
        },
        "outputId": "31c438d1-5943-446f-e2fc-8ee05990c4d4"
      },
      "cell_type": "code",
      "source": [
        "num_steps= 10000 # try different values\n",
        "n_logging = 500  # try different values\n",
        "\n",
        "for step in range(num_steps):\n",
        "    # -------- train RBM -----#\n",
        "    batch_x, _= mnist.train.next_batch(batch_size) \n",
        "    [_, x_g] = sess.run([update_weights1, Xs_prob], feed_dict= {X : batch_x})\n",
        "    \n",
        "    #  ------- logging -------\n",
        "    if step%n_logging == 0:\n",
        "        clear_output()\n",
        "        print('Samples generated starting from given X')\n",
        "        \n",
        "        x_gaux = np.reshape(x_g, [-1,28,28,1])        \n",
        "        plt.figure(1)\n",
        "        for i in range(2*4):\n",
        "            plt.subplot(241 + i)\n",
        "            plt.imshow(x_gaux[i,:,:,0], cmap='Greys_r')\n",
        "        plt.show()\n",
        "        \n",
        "        print('Samples generated from random H1')\n",
        "        [x_g] = sess.run([Xst_prob_h1st], feed_dict= {X : batch_x})\n",
        "        x_gaux = np.reshape(x_g, [-1,28,28,1])\n",
        "        \n",
        "        plt.figure(2)\n",
        "        for i in range(2*4):\n",
        "            plt.subplot(241 + i)\n",
        "            plt.imshow(x_gaux[i,:,:,0], cmap='Greys_r')\n",
        "        plt.show()"
      ],
      "execution_count": 35,
      "outputs": [
        {
          "output_type": "stream",
          "text": [
            "Samples generated starting from given X\n"
          ],
          "name": "stdout"
        },
        {
          "output_type": "display_data",
          "data": {
            "image/png": "[encoded data removed]",
            "text/plain": [
              "<Figure size 432x288 with 8 Axes>"
            ]
          },
          "metadata": {
            "tags": []
          }
        },
        {
          "output_type": "stream",
          "text": [
            "Samples generated from random H1\n"
          ],
          "name": "stdout"
        },
        {
          "output_type": "display_data",
          "data": {
            "image/png": "[encoded data removed]",
            "text/plain": [
              "<Figure size 432x288 with 8 Axes>"
            ]
          },
          "metadata": {
            "tags": []
          }
        }
      ]
    },
    {
      "metadata": {
        "id": "p0t5171k9EkN",
        "colab_type": "text"
      },
      "cell_type": "markdown",
      "source": [
        "Training of layer 2 (second RBM)"
      ]
    },
    {
      "metadata": {
        "id": "s_IgIVRP9EkN",
        "colab_type": "code",
        "colab": {
          "base_uri": "https://localhost:8080/",
          "height": 503
        },
        "outputId": "6c562566-91f3-442c-e6e5-5f026618cf09"
      },
      "cell_type": "code",
      "source": [
        "num_steps= 10000 # try different values\n",
        "n_logging = 500  # try different values\n",
        "\n",
        "for step in range(num_steps):\n",
        "    # -------- train RBM -----#\n",
        "    batch_x, _= mnist.train.next_batch(batch_size) \n",
        "    [_, x_g] = sess.run([update_weights2, Xs_prob_h2], feed_dict= {X : batch_x})\n",
        "    \n",
        "    #  ------- logging -------\n",
        "    if step%n_logging == 0:\n",
        "        clear_output()\n",
        "        print('Samples generated starting from given X')\n",
        "        x_gaux = np.reshape(x_g, [-1,28,28,1])\n",
        "        \n",
        "        plt.figure(1)\n",
        "        for i in range(2*4):\n",
        "            plt.subplot(241 + i)\n",
        "            plt.imshow(x_gaux[i,:,:,0], cmap='Greys_r')\n",
        "        plt.show()\n",
        "        \n",
        "        print('Samples generated from random H2')\n",
        "        [x_g] = sess.run([Xst_prob_h2st], feed_dict= {X : batch_x})\n",
        "        x_gaux = np.reshape(x_g, [-1,28,28,1])\n",
        "        \n",
        "        plt.figure(2)\n",
        "        for i in range(2*4):\n",
        "            plt.subplot(241 + i)\n",
        "            plt.imshow(x_gaux[i,:,:,0], cmap='Greys_r')\n",
        "        plt.show()"
      ],
      "execution_count": 36,
      "outputs": [
        {
          "output_type": "stream",
          "text": [
            "Samples generated starting from given X\n"
          ],
          "name": "stdout"
        },
        {
          "output_type": "display_data",
          "data": {
            "image/png": "[encoded data removed]",
            "text/plain": [
              "<Figure size 432x288 with 8 Axes>"
            ]
          },
          "metadata": {
            "tags": []
          }
        },
        {
          "output_type": "stream",
          "text": [
            "Samples generated from random H2\n"
          ],
          "name": "stdout"
        },
        {
          "output_type": "display_data",
          "data": {
            "image/png": "[encoded data removed]",
            "text/plain": [
              "<Figure size 432x288 with 8 Axes>"
            ]
          },
          "metadata": {
            "tags": []
          }
        }
      ]
    },
    {
      "metadata": {
        "id": "7zYuo_qs9EkP",
        "colab_type": "code",
        "colab": {}
      },
      "cell_type": "code",
      "source": [
        ""
      ],
      "execution_count": 0,
      "outputs": []
    }
  ]
}