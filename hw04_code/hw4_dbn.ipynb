{
 "cells": [
  {
   "cell_type": "markdown",
   "metadata": {},
   "source": [
    "# CMSC 636, HW4: Deep Belief Network on MNIST"
   ]
  },
  {
   "cell_type": "code",
   "execution_count": 47,
   "metadata": {},
   "outputs": [],
   "source": [
    "import numpy as np\n",
    "import tensorflow as tf\n",
    "from types import SimpleNamespace\n",
    "\n",
    "import matplotlib.pyplot as plt\n",
    "import matplotlib.image as mpimg\n",
    "from IPython.display import clear_output\n",
    "%matplotlib inline"
   ]
  },
  {
   "cell_type": "markdown",
   "metadata": {},
   "source": [
    "## Load MNIST"
   ]
  },
  {
   "cell_type": "code",
   "execution_count": 48,
   "metadata": {},
   "outputs": [],
   "source": [
    "# load mnist dataset with labels encoded as one-hot vectors\n",
    "class Dataset():\n",
    "    def __init__(self, data):\n",
    "        self.data = data\n",
    "        self.index = 0\n",
    "        self.epochs = 0\n",
    "\n",
    "    def shuffle(self):\n",
    "        perm = np.arange(self.data[0].shape[0])\n",
    "        np.random.shuffle(perm)\n",
    "        self.data = tuple(datai[perm] for datai in self.data)\n",
    "    \n",
    "    def next_batch(self, batch_size):\n",
    "        start = self.index\n",
    "        end = self.index + batch_size\n",
    "        if end > self.data[0].shape[0]:\n",
    "            self.epochs += 1\n",
    "            self.shuffle()\n",
    "            self.index, start = 0, 0\n",
    "            end = batch_size\n",
    "        self.index = end\n",
    "        return tuple(datai[start:end, ...] for datai in self.data)\n",
    "            \n",
    "def load_mnist():\n",
    "    def preprocess(data, labels, num_classes):\n",
    "        # flatten images\n",
    "        data = data.astype(np.float32)/255.0\n",
    "        data = np.reshape(data, [data.shape[0], -1])\n",
    "        # one hot encoding\n",
    "        num_labels = labels.shape[0]\n",
    "        index_offset = np.arange(num_labels) * num_classes\n",
    "        labels_one_hot = np.zeros((num_labels, num_classes))\n",
    "        labels_one_hot.flat[index_offset + labels.ravel()] = 1\n",
    "        return data, labels_one_hot\n",
    "    train, test = tf.keras.datasets.mnist.load_data()\n",
    "    train = preprocess(train[0], train[1], 10)\n",
    "    test = preprocess(test[0], test[1], 10)\n",
    "    return SimpleNamespace(\n",
    "        train=Dataset(train), \n",
    "        test=Dataset(test))\n",
    "mnist = load_mnist()"
   ]
  },
  {
   "cell_type": "markdown",
   "metadata": {},
   "source": [
    "## Model definition"
   ]
  },
  {
   "cell_type": "code",
   "execution_count": 49,
   "metadata": {},
   "outputs": [],
   "source": [
    "sess = tf.InteractiveSession()"
   ]
  },
  {
   "cell_type": "code",
   "execution_count": 50,
   "metadata": {},
   "outputs": [],
   "source": [
    "def bernoulli_sample_tf(x):\n",
    "    ''' sample from bernoulli distribution given a tf matrix '''\n",
    "    in_shape= x.get_shape().as_list()\n",
    "    uniform_samp = tf.random_uniform(shape=(in_shape[0], in_shape[1]), minval=0.0, maxval=1.0) \n",
    "    return tf.to_float(tf.greater(x, uniform_samp))"
   ]
  },
  {
   "cell_type": "markdown",
   "metadata": {},
   "source": [
    "Implement the contrastive divergence update rule for the rbm, using a mini-batch of  𝑀  samples:\n",
    "\n",
    "𝑊←𝑊+𝛼Δ𝑊  \n",
    "𝑏←𝑏+𝛼Δ𝑏  \n",
    "𝑐←𝑐+𝛼Δ𝑐  \n",
    "\n",
    "Where:\n",
    "\n",
    "𝑊∈×,b∈,c∈  \n",
    "\n",
    "𝑋∈×  , is the matrix composed by the training samples in the mini-batch. Each row of  𝑋  is a training sample \n",
    "\n",
    "Δ𝑊=1𝑀(𝑋𝑇ℎ(𝑥)−𝑋𝑇𝑠ℎ(𝑋𝑠))  \n",
    "\n",
    "Δ𝑏=𝑚𝑒𝑎𝑛((ℎ(𝑋)−ℎ(𝑋𝑠)))  \n",
    "\n",
    "Δ𝑐=𝑚𝑒𝑎𝑛((𝑋−𝑋𝑠))  \n",
    "\n",
    "ℎ(𝑋)=𝜎(𝑋𝑊+𝑏);𝜎(𝑥)=11+exp(−𝑥) \n",
    "Note: The model uses Bernoulli visible and hidden layers"
   ]
  },
  {
   "cell_type": "code",
   "execution_count": 51,
   "metadata": {},
   "outputs": [],
   "source": [
    "# Complete the following function using the code from the hw4_rbm script \n",
    "def rbm_model(X, W, b, c, k, alpha):\n",
    "    # K gibbs sampling\n",
    "    Xs = X;\n",
    "    for i in range(k):\n",
    "        hs_prob = tf.sigmoid(tf.matmul(Xs, W) + b)\n",
    "        hs = bernoulli_sample_tf(hs_prob)\n",
    "        Xs_prob = tf.sigmoid(tf.matmul(hs, tf.transpose(W)) + c)\n",
    "        Xs = bernoulli_sample_tf(Xs_prob)\n",
    "\n",
    "    # Parameter update:\n",
    "    h_x =   tf.sigmoid(tf.matmul(X,W) + b)# Complete: compute h(X)\n",
    "    h_xs =  tf.sigmoid(tf.matmul(Xs,W) + b)# Complete: compute h(Xs)\n",
    "\n",
    "    dW = 1/batch_size * (tf.matmul(tf.transpose(X),h_x) - tf.matmul(tf.transpose(Xs),h_xs))# Complete: follow update equations\n",
    "\n",
    "    db = 1/k * (h_x - h_xs)# Complete: follow update equations\n",
    "    dc = 1/k * (X - Xs)  # Complete: follow update equations\n",
    "\n",
    "    op_W= W.assign_add( alpha*dW )\n",
    "    op_b= b.assign_add( alpha*db )\n",
    "    op_c= c.assign_add( alpha*dc )\n",
    "\n",
    "    update_weights = tf.group( op_W, op_b, op_c )\n",
    "    \n",
    "    return update_weights, Xs_prob, h_x, h_xs"
   ]
  },
  {
   "cell_type": "code",
   "execution_count": 52,
   "metadata": {},
   "outputs": [],
   "source": [
    "n_inputs= 28*28         # Complete: number of input units (i.e. V)\n",
    "n_hidden= [100, 20]     # number of hidden units (i.e. H), try different values\n",
    "batch_size= 500         # number of samples on the mini-batch (i.e. M)\n",
    "\n",
    "k= 5       #Try different values\n",
    "\n",
    "X = tf.placeholder( tf.float32, shape=(batch_size, n_inputs))\n",
    "\n",
    "# Definition of first RBM model\n",
    "W1= tf.Variable(tf.zeros([n_inputs, n_hidden[0]]))# Complete: weight matrix for the rbm model on the first layer\n",
    "b1= tf.Variable(tf.zeros([batch_size, n_hidden[0]]))# Complete: b vector for the rbm model on the first layer\n",
    "c1= tf.Variable(tf.zeros([batch_size, n_inputs]))# Complete: c vector for the rbm model on the first layer\n",
    "\n",
    "alpha= 0.1  #Try different values\n",
    "alpha = 2\n",
    "update_weights1, Xs_prob, h1_x, h1_xs = rbm_model( X, W1, b1, c1, k, alpha )\n",
    "\n",
    "# Definition of second RBM model \n",
    "W2= tf.Variable(tf.zeros([n_hidden[0], n_hidden[1]]))# Complete: weight matrix for the rbm model of the second layer\n",
    "b2= tf.Variable(tf.zeros([batch_size, n_hidden[1]]))# Complete: b vector for the rbm model on the second layer\n",
    "c2= tf.Variable(tf.zeros([batch_size, n_hidden[0]]))# Complete: c vector for the rbm model on the second layer\n",
    "\n",
    "alpha= 0.1 #Try different values\n",
    "alpha = 2\n",
    "update_weights2, h1s_prob, h2_h1, h2_h1s = rbm_model( h1_x, W2, b2, c2, k, alpha )"
   ]
  },
  {
   "cell_type": "markdown",
   "metadata": {},
   "source": [
    "## Sampling"
   ]
  },
  {
   "cell_type": "code",
   "execution_count": 53,
   "metadata": {},
   "outputs": [],
   "source": [
    "Xs_prob_h2 = tf.sigmoid(tf.matmul(h1s_prob, tf.transpose(W1)) + c1) # samples given X while training second RBM\n",
    "\n",
    "# random samples from DBN model starting with random h1 samples\n",
    "h1st = tf.random_uniform(shape=(batch_size, n_hidden[0]), minval=0, maxval=1)\n",
    "for i in range(10):\n",
    "    Xst_prob = tf.sigmoid(tf.matmul(h1st, tf.transpose(W1)) + c1)\n",
    "    Xst = bernoulli_sample_tf(Xst_prob)\n",
    "    h1st_prob = tf.sigmoid(tf.matmul(Xst, W1) + b1)\n",
    "    h1st = bernoulli_sample_tf(h1st_prob)\n",
    "Xst_prob_h1st = tf.sigmoid(tf.matmul(h1st, tf.transpose(W1)) + c1) # X generated from random h1\n",
    "\n",
    "\n",
    "# random samples from DBN model starting with random h2 samples\n",
    "h2st = tf.random_uniform(shape=(batch_size, n_hidden[1]), minval=0, maxval=1)\n",
    "for i in range(10):\n",
    "    h1st_prob = tf.sigmoid(tf.matmul(h2st, tf.transpose(W2)) + c2)\n",
    "    h1st = bernoulli_sample_tf(h1st_prob)\n",
    "    h2st_prob = tf.sigmoid(tf.matmul(h1st, W2) + b2)\n",
    "    h2st = bernoulli_sample_tf(h2st_prob)\n",
    "Xst_prob_h2st = tf.sigmoid(tf.matmul(h1st, tf.transpose(W1)) + c1) # X generated from random h2"
   ]
  },
  {
   "cell_type": "markdown",
   "metadata": {},
   "source": [
    "## Training"
   ]
  },
  {
   "cell_type": "code",
   "execution_count": 54,
   "metadata": {},
   "outputs": [
    {
     "name": "stdout",
     "output_type": "stream",
     "text": [
      "Initialized\n"
     ]
    }
   ],
   "source": [
    "init = tf.global_variables_initializer()\n",
    "sess.run(init)\n",
    "print('Initialized')"
   ]
  },
  {
   "cell_type": "markdown",
   "metadata": {},
   "source": [
    "### Training of layer 1 (first RBM)"
   ]
  },
  {
   "cell_type": "code",
   "execution_count": 55,
   "metadata": {},
   "outputs": [
    {
     "name": "stdout",
     "output_type": "stream",
     "text": [
      "Samples generated starting from given X\n"
     ]
    },
    {
     "data": {
      "image/png": "[encoded data removed]",
      "text/plain": [
       "<Figure size 432x288 with 8 Axes>"
      ]
     },
     "metadata": {
      "needs_background": "light"
     },
     "output_type": "display_data"
    },
    {
     "name": "stdout",
     "output_type": "stream",
     "text": [
      "Samples generated from random H1\n"
     ]
    },
    {
     "data": {
      "image/png": "[encoded data removed]",
      "text/plain": [
       "<Figure size 432x288 with 8 Axes>"
      ]
     },
     "metadata": {
      "needs_background": "light"
     },
     "output_type": "display_data"
    },
    {
     "ename": "KeyboardInterrupt",
     "evalue": "",
     "output_type": "error",
     "traceback": [
      "\u001b[0;31m---------------------------------------------------------------------------\u001b[0m",
      "\u001b[0;31mKeyboardInterrupt\u001b[0m                         Traceback (most recent call last)",
      "\u001b[0;32m<ipython-input-55-16c2508264a6>\u001b[0m in \u001b[0;36m<module>\u001b[0;34m\u001b[0m\n\u001b[1;32m      5\u001b[0m     \u001b[0;31m# -------- train RBM -----#\u001b[0m\u001b[0;34m\u001b[0m\u001b[0;34m\u001b[0m\u001b[0;34m\u001b[0m\u001b[0m\n\u001b[1;32m      6\u001b[0m     \u001b[0mbatch_x\u001b[0m\u001b[0;34m,\u001b[0m \u001b[0m_\u001b[0m\u001b[0;34m=\u001b[0m \u001b[0mmnist\u001b[0m\u001b[0;34m.\u001b[0m\u001b[0mtrain\u001b[0m\u001b[0;34m.\u001b[0m\u001b[0mnext_batch\u001b[0m\u001b[0;34m(\u001b[0m\u001b[0mbatch_size\u001b[0m\u001b[0;34m)\u001b[0m\u001b[0;34m\u001b[0m\u001b[0;34m\u001b[0m\u001b[0m\n\u001b[0;32m----> 7\u001b[0;31m     \u001b[0;34m[\u001b[0m\u001b[0m_\u001b[0m\u001b[0;34m,\u001b[0m \u001b[0mx_g\u001b[0m\u001b[0;34m]\u001b[0m \u001b[0;34m=\u001b[0m \u001b[0msess\u001b[0m\u001b[0;34m.\u001b[0m\u001b[0mrun\u001b[0m\u001b[0;34m(\u001b[0m\u001b[0;34m[\u001b[0m\u001b[0mupdate_weights1\u001b[0m\u001b[0;34m,\u001b[0m \u001b[0mXs_prob\u001b[0m\u001b[0;34m]\u001b[0m\u001b[0;34m,\u001b[0m \u001b[0mfeed_dict\u001b[0m\u001b[0;34m=\u001b[0m \u001b[0;34m{\u001b[0m\u001b[0mX\u001b[0m \u001b[0;34m:\u001b[0m \u001b[0mbatch_x\u001b[0m\u001b[0;34m}\u001b[0m\u001b[0;34m)\u001b[0m\u001b[0;34m\u001b[0m\u001b[0;34m\u001b[0m\u001b[0m\n\u001b[0m\u001b[1;32m      8\u001b[0m \u001b[0;34m\u001b[0m\u001b[0m\n\u001b[1;32m      9\u001b[0m     \u001b[0;31m#  ------- logging -------\u001b[0m\u001b[0;34m\u001b[0m\u001b[0;34m\u001b[0m\u001b[0;34m\u001b[0m\u001b[0m\n",
      "\u001b[0;32m~/Library/Python/3.7/lib/python/site-packages/tensorflow/python/client/session.py\u001b[0m in \u001b[0;36mrun\u001b[0;34m(self, fetches, feed_dict, options, run_metadata)\u001b[0m\n\u001b[1;32m    927\u001b[0m     \u001b[0;32mtry\u001b[0m\u001b[0;34m:\u001b[0m\u001b[0;34m\u001b[0m\u001b[0;34m\u001b[0m\u001b[0m\n\u001b[1;32m    928\u001b[0m       result = self._run(None, fetches, feed_dict, options_ptr,\n\u001b[0;32m--> 929\u001b[0;31m                          run_metadata_ptr)\n\u001b[0m\u001b[1;32m    930\u001b[0m       \u001b[0;32mif\u001b[0m \u001b[0mrun_metadata\u001b[0m\u001b[0;34m:\u001b[0m\u001b[0;34m\u001b[0m\u001b[0;34m\u001b[0m\u001b[0m\n\u001b[1;32m    931\u001b[0m         \u001b[0mproto_data\u001b[0m \u001b[0;34m=\u001b[0m \u001b[0mtf_session\u001b[0m\u001b[0;34m.\u001b[0m\u001b[0mTF_GetBuffer\u001b[0m\u001b[0;34m(\u001b[0m\u001b[0mrun_metadata_ptr\u001b[0m\u001b[0;34m)\u001b[0m\u001b[0;34m\u001b[0m\u001b[0;34m\u001b[0m\u001b[0m\n",
      "\u001b[0;32m~/Library/Python/3.7/lib/python/site-packages/tensorflow/python/client/session.py\u001b[0m in \u001b[0;36m_run\u001b[0;34m(self, handle, fetches, feed_dict, options, run_metadata)\u001b[0m\n\u001b[1;32m   1150\u001b[0m     \u001b[0;32mif\u001b[0m \u001b[0mfinal_fetches\u001b[0m \u001b[0;32mor\u001b[0m \u001b[0mfinal_targets\u001b[0m \u001b[0;32mor\u001b[0m \u001b[0;34m(\u001b[0m\u001b[0mhandle\u001b[0m \u001b[0;32mand\u001b[0m \u001b[0mfeed_dict_tensor\u001b[0m\u001b[0;34m)\u001b[0m\u001b[0;34m:\u001b[0m\u001b[0;34m\u001b[0m\u001b[0;34m\u001b[0m\u001b[0m\n\u001b[1;32m   1151\u001b[0m       results = self._do_run(handle, final_targets, final_fetches,\n\u001b[0;32m-> 1152\u001b[0;31m                              feed_dict_tensor, options, run_metadata)\n\u001b[0m\u001b[1;32m   1153\u001b[0m     \u001b[0;32melse\u001b[0m\u001b[0;34m:\u001b[0m\u001b[0;34m\u001b[0m\u001b[0;34m\u001b[0m\u001b[0m\n\u001b[1;32m   1154\u001b[0m       \u001b[0mresults\u001b[0m \u001b[0;34m=\u001b[0m \u001b[0;34m[\u001b[0m\u001b[0;34m]\u001b[0m\u001b[0;34m\u001b[0m\u001b[0;34m\u001b[0m\u001b[0m\n",
      "\u001b[0;32m~/Library/Python/3.7/lib/python/site-packages/tensorflow/python/client/session.py\u001b[0m in \u001b[0;36m_do_run\u001b[0;34m(self, handle, target_list, fetch_list, feed_dict, options, run_metadata)\u001b[0m\n\u001b[1;32m   1326\u001b[0m     \u001b[0;32mif\u001b[0m \u001b[0mhandle\u001b[0m \u001b[0;32mis\u001b[0m \u001b[0;32mNone\u001b[0m\u001b[0;34m:\u001b[0m\u001b[0;34m\u001b[0m\u001b[0;34m\u001b[0m\u001b[0m\n\u001b[1;32m   1327\u001b[0m       return self._do_call(_run_fn, feeds, fetches, targets, options,\n\u001b[0;32m-> 1328\u001b[0;31m                            run_metadata)\n\u001b[0m\u001b[1;32m   1329\u001b[0m     \u001b[0;32melse\u001b[0m\u001b[0;34m:\u001b[0m\u001b[0;34m\u001b[0m\u001b[0;34m\u001b[0m\u001b[0m\n\u001b[1;32m   1330\u001b[0m       \u001b[0;32mreturn\u001b[0m \u001b[0mself\u001b[0m\u001b[0;34m.\u001b[0m\u001b[0m_do_call\u001b[0m\u001b[0;34m(\u001b[0m\u001b[0m_prun_fn\u001b[0m\u001b[0;34m,\u001b[0m \u001b[0mhandle\u001b[0m\u001b[0;34m,\u001b[0m \u001b[0mfeeds\u001b[0m\u001b[0;34m,\u001b[0m \u001b[0mfetches\u001b[0m\u001b[0;34m)\u001b[0m\u001b[0;34m\u001b[0m\u001b[0;34m\u001b[0m\u001b[0m\n",
      "\u001b[0;32m~/Library/Python/3.7/lib/python/site-packages/tensorflow/python/client/session.py\u001b[0m in \u001b[0;36m_do_call\u001b[0;34m(self, fn, *args)\u001b[0m\n\u001b[1;32m   1332\u001b[0m   \u001b[0;32mdef\u001b[0m \u001b[0m_do_call\u001b[0m\u001b[0;34m(\u001b[0m\u001b[0mself\u001b[0m\u001b[0;34m,\u001b[0m \u001b[0mfn\u001b[0m\u001b[0;34m,\u001b[0m \u001b[0;34m*\u001b[0m\u001b[0margs\u001b[0m\u001b[0;34m)\u001b[0m\u001b[0;34m:\u001b[0m\u001b[0;34m\u001b[0m\u001b[0;34m\u001b[0m\u001b[0m\n\u001b[1;32m   1333\u001b[0m     \u001b[0;32mtry\u001b[0m\u001b[0;34m:\u001b[0m\u001b[0;34m\u001b[0m\u001b[0;34m\u001b[0m\u001b[0m\n\u001b[0;32m-> 1334\u001b[0;31m       \u001b[0;32mreturn\u001b[0m \u001b[0mfn\u001b[0m\u001b[0;34m(\u001b[0m\u001b[0;34m*\u001b[0m\u001b[0margs\u001b[0m\u001b[0;34m)\u001b[0m\u001b[0;34m\u001b[0m\u001b[0;34m\u001b[0m\u001b[0m\n\u001b[0m\u001b[1;32m   1335\u001b[0m     \u001b[0;32mexcept\u001b[0m \u001b[0merrors\u001b[0m\u001b[0;34m.\u001b[0m\u001b[0mOpError\u001b[0m \u001b[0;32mas\u001b[0m \u001b[0me\u001b[0m\u001b[0;34m:\u001b[0m\u001b[0;34m\u001b[0m\u001b[0;34m\u001b[0m\u001b[0m\n\u001b[1;32m   1336\u001b[0m       \u001b[0mmessage\u001b[0m \u001b[0;34m=\u001b[0m \u001b[0mcompat\u001b[0m\u001b[0;34m.\u001b[0m\u001b[0mas_text\u001b[0m\u001b[0;34m(\u001b[0m\u001b[0me\u001b[0m\u001b[0;34m.\u001b[0m\u001b[0mmessage\u001b[0m\u001b[0;34m)\u001b[0m\u001b[0;34m\u001b[0m\u001b[0;34m\u001b[0m\u001b[0m\n",
      "\u001b[0;32m~/Library/Python/3.7/lib/python/site-packages/tensorflow/python/client/session.py\u001b[0m in \u001b[0;36m_run_fn\u001b[0;34m(feed_dict, fetch_list, target_list, options, run_metadata)\u001b[0m\n\u001b[1;32m   1317\u001b[0m       \u001b[0mself\u001b[0m\u001b[0;34m.\u001b[0m\u001b[0m_extend_graph\u001b[0m\u001b[0;34m(\u001b[0m\u001b[0;34m)\u001b[0m\u001b[0;34m\u001b[0m\u001b[0;34m\u001b[0m\u001b[0m\n\u001b[1;32m   1318\u001b[0m       return self._call_tf_sessionrun(\n\u001b[0;32m-> 1319\u001b[0;31m           options, feed_dict, fetch_list, target_list, run_metadata)\n\u001b[0m\u001b[1;32m   1320\u001b[0m \u001b[0;34m\u001b[0m\u001b[0m\n\u001b[1;32m   1321\u001b[0m     \u001b[0;32mdef\u001b[0m \u001b[0m_prun_fn\u001b[0m\u001b[0;34m(\u001b[0m\u001b[0mhandle\u001b[0m\u001b[0;34m,\u001b[0m \u001b[0mfeed_dict\u001b[0m\u001b[0;34m,\u001b[0m \u001b[0mfetch_list\u001b[0m\u001b[0;34m)\u001b[0m\u001b[0;34m:\u001b[0m\u001b[0;34m\u001b[0m\u001b[0;34m\u001b[0m\u001b[0m\n",
      "\u001b[0;32m~/Library/Python/3.7/lib/python/site-packages/tensorflow/python/client/session.py\u001b[0m in \u001b[0;36m_call_tf_sessionrun\u001b[0;34m(self, options, feed_dict, fetch_list, target_list, run_metadata)\u001b[0m\n\u001b[1;32m   1405\u001b[0m     return tf_session.TF_SessionRun_wrapper(\n\u001b[1;32m   1406\u001b[0m         \u001b[0mself\u001b[0m\u001b[0;34m.\u001b[0m\u001b[0m_session\u001b[0m\u001b[0;34m,\u001b[0m \u001b[0moptions\u001b[0m\u001b[0;34m,\u001b[0m \u001b[0mfeed_dict\u001b[0m\u001b[0;34m,\u001b[0m \u001b[0mfetch_list\u001b[0m\u001b[0;34m,\u001b[0m \u001b[0mtarget_list\u001b[0m\u001b[0;34m,\u001b[0m\u001b[0;34m\u001b[0m\u001b[0;34m\u001b[0m\u001b[0m\n\u001b[0;32m-> 1407\u001b[0;31m         run_metadata)\n\u001b[0m\u001b[1;32m   1408\u001b[0m \u001b[0;34m\u001b[0m\u001b[0m\n\u001b[1;32m   1409\u001b[0m   \u001b[0;32mdef\u001b[0m \u001b[0m_call_tf_sessionprun\u001b[0m\u001b[0;34m(\u001b[0m\u001b[0mself\u001b[0m\u001b[0;34m,\u001b[0m \u001b[0mhandle\u001b[0m\u001b[0;34m,\u001b[0m \u001b[0mfeed_dict\u001b[0m\u001b[0;34m,\u001b[0m \u001b[0mfetch_list\u001b[0m\u001b[0;34m)\u001b[0m\u001b[0;34m:\u001b[0m\u001b[0;34m\u001b[0m\u001b[0;34m\u001b[0m\u001b[0m\n",
      "\u001b[0;31mKeyboardInterrupt\u001b[0m: "
     ]
    }
   ],
   "source": [
    "num_steps= 10000 # try different values\n",
    "n_logging = 500  # try different values\n",
    "\n",
    "for step in range(num_steps):\n",
    "    # -------- train RBM -----#\n",
    "    batch_x, _= mnist.train.next_batch(batch_size) \n",
    "    [_, x_g] = sess.run([update_weights1, Xs_prob], feed_dict= {X : batch_x})\n",
    "    \n",
    "    #  ------- logging -------\n",
    "    if step%n_logging == 0:\n",
    "        clear_output()\n",
    "        print('Samples generated starting from given X')\n",
    "        \n",
    "        x_gaux = np.reshape(x_g, [-1,28,28,1])        \n",
    "        plt.figure(1)\n",
    "        for i in range(2*4):\n",
    "            plt.subplot(241 + i)\n",
    "            plt.imshow(x_gaux[i,:,:,0], cmap='Greys_r')\n",
    "        plt.show()\n",
    "        \n",
    "        print('Samples generated from random H1')\n",
    "        [x_g] = sess.run([Xst_prob_h1st], feed_dict= {X : batch_x})\n",
    "        x_gaux = np.reshape(x_g, [-1,28,28,1])\n",
    "        \n",
    "        plt.figure(2)\n",
    "        for i in range(2*4):\n",
    "            plt.subplot(241 + i)\n",
    "            plt.imshow(x_gaux[i,:,:,0], cmap='Greys_r')\n",
    "        plt.show()"
   ]
  },
  {
   "cell_type": "markdown",
   "metadata": {},
   "source": [
    "Training of layer 2 (second RBM)"
   ]
  },
  {
   "cell_type": "code",
   "execution_count": null,
   "metadata": {},
   "outputs": [],
   "source": [
    "num_steps= 10000 # try different values\n",
    "n_logging = 500  # try different values\n",
    "\n",
    "for step in range(num_steps):\n",
    "    # -------- train RBM -----#\n",
    "    batch_x, _= mnist.train.next_batch(batch_size) \n",
    "    [_, x_g] = sess.run([update_weights2, Xs_prob_h2], feed_dict= {X : batch_x})\n",
    "    \n",
    "    #  ------- logging -------\n",
    "    if step%n_logging == 0:\n",
    "        clear_output()\n",
    "        print('Samples generated starting from given X')\n",
    "        x_gaux = np.reshape(x_g, [-1,28,28,1])\n",
    "        \n",
    "        plt.figure(1)\n",
    "        for i in range(2*4):\n",
    "            plt.subplot(241 + i)\n",
    "            plt.imshow(x_gaux[i,:,:,0], cmap='Greys_r')\n",
    "        plt.show()\n",
    "        \n",
    "        print('Samples generated from random H2')\n",
    "        [x_g] = sess.run([Xst_prob_h2st], feed_dict= {X : batch_x})\n",
    "        x_gaux = np.reshape(x_g, [-1,28,28,1])\n",
    "        \n",
    "        plt.figure(2)\n",
    "        for i in range(2*4):\n",
    "            plt.subplot(241 + i)\n",
    "            plt.imshow(x_gaux[i,:,:,0], cmap='Greys_r')\n",
    "        plt.show()"
   ]
  },
  {
   "cell_type": "code",
   "execution_count": null,
   "metadata": {},
   "outputs": [],
   "source": []
  }
 ],
 "metadata": {
  "kernelspec": {
   "display_name": "Python 3",
   "language": "python",
   "name": "python3"
  },
  "language_info": {
   "codemirror_mode": {
    "name": "ipython",
    "version": 3
   },
   "file_extension": ".py",
   "mimetype": "text/x-python",
   "name": "python",
   "nbconvert_exporter": "python",
   "pygments_lexer": "ipython3",
   "version": "3.7.2"
  },
  "toc": {
   "colors": {
    "hover_highlight": "#DAA520",
    "navigate_num": "#000000",
    "navigate_text": "#333333",
    "running_highlight": "#FF0000",
    "selected_highlight": "#FFD700",
    "sidebar_border": "#EEEEEE",
    "wrapper_background": "#FFFFFF"
   },
   "moveMenuLeft": true,
   "nav_menu": {
    "height": "120px",
    "width": "252px"
   },
   "navigate_menu": true,
   "number_sections": true,
   "sideBar": true,
   "threshold": 4,
   "toc_cell": false,
   "toc_section_display": "block",
   "toc_window_display": false,
   "widenNotebook": false
  }
 },
 "nbformat": 4,
 "nbformat_minor": 2
}
