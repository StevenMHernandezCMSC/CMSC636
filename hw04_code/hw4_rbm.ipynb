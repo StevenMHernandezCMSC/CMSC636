{
  "nbformat": 4,
  "nbformat_minor": 0,
  "metadata": {
    "colab": {
      "name": "hw4_rbm.ipynb",
      "version": "0.3.2",
      "provenance": []
    },
    "language_info": {
      "codemirror_mode": {
        "name": "ipython",
        "version": 3
      },
      "file_extension": ".py",
      "mimetype": "text/x-python",
      "name": "python",
      "nbconvert_exporter": "python",
      "pygments_lexer": "ipython3",
      "version": "3.7.2"
    },
    "kernelspec": {
      "name": "python3",
      "display_name": "Python 3"
    },
    "accelerator": "GPU"
  },
  "cells": [
    {
      "metadata": {
        "id": "ANyaGo3rb2OR",
        "colab_type": "text"
      },
      "cell_type": "markdown",
      "source": [
        "# CMSC 636, HW4: Restricted Boltzman Machine on MNIST"
      ]
    },
    {
      "metadata": {
        "id": "ngNIhwiGb2OS",
        "colab_type": "code",
        "colab": {}
      },
      "cell_type": "code",
      "source": [
        "import numpy as np\n",
        "import tensorflow as tf\n",
        "from types import SimpleNamespace\n",
        "\n",
        "import matplotlib.pyplot as plt\n",
        "import matplotlib.image as mpimg\n",
        "from IPython.display import clear_output\n",
        "%matplotlib inline"
      ],
      "execution_count": 0,
      "outputs": []
    },
    {
      "metadata": {
        "id": "xl9I_SlBb2OV",
        "colab_type": "text"
      },
      "cell_type": "markdown",
      "source": [
        "## Load MNIST"
      ]
    },
    {
      "metadata": {
        "id": "Pjk0Sjjwb2OW",
        "colab_type": "code",
        "colab": {}
      },
      "cell_type": "code",
      "source": [
        "# load mnist dataset with labels encoded as one-hot vectors\n",
        "class Dataset():\n",
        "    def __init__(self, data):\n",
        "        self.data = data\n",
        "        self.index = 0\n",
        "        self.epochs = 0\n",
        "\n",
        "    def shuffle(self):\n",
        "        perm = np.arange(self.data[0].shape[0])\n",
        "        np.random.shuffle(perm)\n",
        "        self.data = tuple(datai[perm] for datai in self.data)\n",
        "    \n",
        "    def next_batch(self, batch_size):\n",
        "        start = self.index\n",
        "        end = self.index + batch_size\n",
        "        if end > self.data[0].shape[0]:\n",
        "            self.epochs += 1\n",
        "            self.shuffle()\n",
        "            self.index, start = 0, 0\n",
        "            end = batch_size\n",
        "        self.index = end\n",
        "        return tuple(datai[start:end, ...] for datai in self.data)\n",
        "            \n",
        "def load_mnist():\n",
        "    def preprocess(data, labels, num_classes):\n",
        "        # flatten images\n",
        "        data = data.astype(np.float32)/255.0\n",
        "        data = np.reshape(data, [data.shape[0], -1])\n",
        "        # one hot encoding\n",
        "        num_labels = labels.shape[0]\n",
        "        index_offset = np.arange(num_labels) * num_classes\n",
        "        labels_one_hot = np.zeros((num_labels, num_classes))\n",
        "        labels_one_hot.flat[index_offset + labels.ravel()] = 1\n",
        "        return data, labels_one_hot\n",
        "    train, test = tf.keras.datasets.mnist.load_data()\n",
        "    train = preprocess(train[0], train[1], 10)\n",
        "    test = preprocess(test[0], test[1], 10)\n",
        "    return SimpleNamespace(\n",
        "        train=Dataset(train), \n",
        "        test=Dataset(test))\n",
        "mnist = load_mnist()"
      ],
      "execution_count": 0,
      "outputs": []
    },
    {
      "metadata": {
        "id": "xZqM3rMWb2OY",
        "colab_type": "text"
      },
      "cell_type": "markdown",
      "source": [
        "## Model definition"
      ]
    },
    {
      "metadata": {
        "id": "Hot99klWb2OZ",
        "colab_type": "code",
        "colab": {}
      },
      "cell_type": "code",
      "source": [
        "sess = tf.InteractiveSession()"
      ],
      "execution_count": 0,
      "outputs": []
    },
    {
      "metadata": {
        "id": "fZIJOKowb2Ob",
        "colab_type": "code",
        "colab": {}
      },
      "cell_type": "code",
      "source": [
        "def bernoulli_sample_tf(x):\n",
        "    ''' sample from bernoulli distribution given a tf matrix '''\n",
        "    in_shape= x.get_shape().as_list()\n",
        "    uniform_samp = tf.random_uniform(shape=(in_shape[0], in_shape[1]), minval=0.0, maxval=1.0) \n",
        "    return tf.to_float(tf.greater(x, uniform_samp))"
      ],
      "execution_count": 0,
      "outputs": []
    },
    {
      "metadata": {
        "id": "W9QaVVdZb2Od",
        "colab_type": "text"
      },
      "cell_type": "markdown",
      "source": [
        "Implement the contrastive divergence update rule for the rbm, using a mini-batch of  𝑀  samples:\n",
        "\n",
        "𝑊←𝑊+𝛼Δ𝑊  \n",
        "𝑏←𝑏+𝛼Δ𝑏  \n",
        "𝑐←𝑐+𝛼Δ𝑐  \n",
        "\n",
        "Where:\n",
        "\n",
        "𝑊∈×,b∈,c∈  \n",
        "\n",
        "𝑋∈×  , is the matrix composed by the training samples in the mini-batch. Each row of  𝑋  is a training sample \n",
        "\n",
        "Δ𝑊=1𝑀(𝑋𝑇ℎ(𝑥)−𝑋𝑇𝑠ℎ(𝑋𝑠))  \n",
        "\n",
        "Δ𝑏=𝑚𝑒𝑎𝑛((ℎ(𝑋)−ℎ(𝑋𝑠)))  \n",
        "\n",
        "Δ𝑐=𝑚𝑒𝑎𝑛((𝑋−𝑋𝑠))  \n",
        "\n",
        "ℎ(𝑋)=𝜎(𝑋𝑊+𝑏);𝜎(𝑥)=11+exp(−𝑥) \n",
        "Note: The model uses Bernoulli visible and hidden layers"
      ]
    },
    {
      "metadata": {
        "id": "NlYfIPeEb2Oe",
        "colab_type": "code",
        "colab": {
          "base_uri": "https://localhost:8080/",
          "height": 139
        },
        "outputId": "66f90b67-1c6e-4f27-82ed-50fdaec9cc13"
      },
      "cell_type": "code",
      "source": [
        "n_inputs= 28*28 # Complete: number of input units (i.e. V)\n",
        "n_hidden=   20 # Complete: number of hidden units (i.e. H), try different values\n",
        "batch_size= 1000 # number of samples on the mini-batch (i.e. M)\n",
        "\n",
        "k= 3          #Try different values \n",
        "alpha= 100   #Try different values\n",
        "\n",
        "X = tf.placeholder( tf.float32, shape=(batch_size, n_inputs))\n",
        "\n",
        "W= tf.Variable(tf.zeros([n_inputs, n_hidden])) # Complete: weight matrix for the rbm model\n",
        "b= tf.Variable(tf.zeros([batch_size, n_hidden]))# Complete: b vector for the rbm model\n",
        "c= tf.Variable(tf.zeros([batch_size, n_inputs]))# Complete: c vector for the rbm model\n",
        "\n",
        "# K gibbs sampling: obtain a set of samples Xs by performing K-gibbs sampling steps\n",
        "Xs = X;\n",
        "for i in range(k):\n",
        "    hs_prob = tf.sigmoid(tf.matmul(Xs, W) + b)\n",
        "    hs = bernoulli_sample_tf(hs_prob)\n",
        "    Xs_prob = tf.sigmoid(tf.matmul(hs, tf.transpose(W)) + c)\n",
        "    Xs = bernoulli_sample_tf(Xs_prob)\n",
        "    \n",
        "# Parameter update:\n",
        "h_x =  tf.sigmoid(tf.matmul(X,W) + b)# Complete: compute h(X)\n",
        "h_xs = tf.sigmoid(tf.matmul(Xs,W) + b)# Complete: compute h(Xs)\n",
        "\n",
        "dW = 1/batch_size * (tf.matmul(tf.transpose(X),h_x) - tf.matmul(tf.transpose(Xs),h_xs))# Complete: follow update equations\n",
        "\n",
        "db = 1/k * (h_x - h_xs)# Complete: follow update equations\n",
        "dc = 1/k * (X - Xs)  # Complete: follow update equations\n",
        "\n",
        "op_W= W.assign_add( alpha*dW )\n",
        "op_b= b.assign_add( alpha*db )\n",
        "op_c= c.assign_add( alpha*dc )\n",
        "\n",
        "update_weights = tf.group( op_W, op_b, op_c )\n",
        "\n"
      ],
      "execution_count": 5,
      "outputs": [
        {
          "output_type": "stream",
          "text": [
            "WARNING:tensorflow:From /usr/local/lib/python3.6/dist-packages/tensorflow/python/framework/op_def_library.py:263: colocate_with (from tensorflow.python.framework.ops) is deprecated and will be removed in a future version.\n",
            "Instructions for updating:\n",
            "Colocations handled automatically by placer.\n",
            "WARNING:tensorflow:From <ipython-input-4-9825320f7fdb>:5: to_float (from tensorflow.python.ops.math_ops) is deprecated and will be removed in a future version.\n",
            "Instructions for updating:\n",
            "Use tf.cast instead.\n"
          ],
          "name": "stdout"
        }
      ]
    },
    {
      "metadata": {
        "id": "TlhRqkZ5b2Og",
        "colab_type": "code",
        "colab": {}
      },
      "cell_type": "code",
      "source": [
        "# For visualization of the samples from the model\n",
        "# K gibbs sampling starting from random hidden layer\n",
        "hst = tf.random_uniform(shape=(batch_size, n_hidden), minval=0, maxval=1)\n",
        "for i in range(10):\n",
        "    Xst_prob = tf.sigmoid(tf.matmul(hst, tf.transpose(W)) + c)\n",
        "    Xst = bernoulli_sample_tf(Xst_prob)\n",
        "    hst_prob = tf.sigmoid(tf.matmul(Xst, W) + b)\n",
        "    hst = bernoulli_sample_tf(hst_prob)"
      ],
      "execution_count": 0,
      "outputs": []
    },
    {
      "metadata": {
        "id": "6FE_DNAVb2Oi",
        "colab_type": "text"
      },
      "cell_type": "markdown",
      "source": [
        "## Train the model"
      ]
    },
    {
      "metadata": {
        "id": "Z1AbyTxsb2Oj",
        "colab_type": "code",
        "colab": {
          "base_uri": "https://localhost:8080/",
          "height": 34
        },
        "outputId": "2a17a218-d401-4c91-ddd6-43ad61212a7a"
      },
      "cell_type": "code",
      "source": [
        "init = tf.global_variables_initializer()\n",
        "sess.run(init)\n",
        "print('Initialized')"
      ],
      "execution_count": 7,
      "outputs": [
        {
          "output_type": "stream",
          "text": [
            "Initialized\n"
          ],
          "name": "stdout"
        }
      ]
    },
    {
      "metadata": {
        "id": "buy-eLUHb2On",
        "colab_type": "code",
        "colab": {
          "base_uri": "https://localhost:8080/",
          "height": 503
        },
        "outputId": "9c18339d-03dd-4a8a-a277-48ab00447b09"
      },
      "cell_type": "code",
      "source": [
        "num_steps= 10000 # try different values\n",
        "n_logging = 500  # try different values\n",
        "\n",
        "for step in range(num_steps):\n",
        "    # -------- train RBM -----#\n",
        "    batch_x, _= mnist.train.next_batch(batch_size) \n",
        "    [_, x_g] = sess.run([update_weights, Xs_prob], feed_dict= {X : batch_x})\n",
        "    \n",
        "    #  ------- logging -------\n",
        "    if step%n_logging == 0:\n",
        "        clear_output()\n",
        "        \n",
        "        # --- plot samples starting from given x --- #\n",
        "        x_gaux = np.reshape(x_g, [-1,28,28,1])\n",
        "        \n",
        "        plt.figure(1)\n",
        "        print('Samples generated starting from given X')\n",
        "        for i in range(2*4):\n",
        "            plt.subplot(241 + i)\n",
        "            plt.imshow(x_gaux[i,:,:,0], cmap='Greys_r')\n",
        "        plt.show()\n",
        "        \n",
        "        # --- plot random samples --- #\n",
        "        [x_g] = sess.run([Xst_prob], feed_dict= {X : batch_x})\n",
        "        x_gaux = np.reshape(x_g, [-1,28,28,1])\n",
        "        \n",
        "        plt.figure(2)\n",
        "        print('Samples generated from random H')\n",
        "        for i in range(2*4):\n",
        "            plt.subplot(241 + i)\n",
        "            plt.imshow(x_gaux[i,:,:,0], cmap='Greys_r')\n",
        "        plt.show()"
      ],
      "execution_count": 20,
      "outputs": [
        {
          "output_type": "stream",
          "text": [
            "Samples generated starting from given X\n"
          ],
          "name": "stdout"
        },
        {
          "output_type": "display_data",
          "data": {
            "image/png": "[encoded data removed]",
            "text/plain": [
              "<Figure size 432x288 with 8 Axes>"
            ]
          },
          "metadata": {
            "tags": []
          }
        },
        {
          "output_type": "stream",
          "text": [
            "Samples generated from random H\n"
          ],
          "name": "stdout"
        },
        {
          "output_type": "display_data",
          "data": {
            "image/png": "[encoded data removed]",
            "text/plain": [
              "<Figure size 432x288 with 8 Axes>"
            ]
          },
          "metadata": {
            "tags": []
          }
        }
      ]
    },
    {
      "metadata": {
        "id": "6V5xyNtob2Oq",
        "colab_type": "code",
        "colab": {}
      },
      "cell_type": "code",
      "source": [
        ""
      ],
      "execution_count": 0,
      "outputs": []
    }
  ]
}