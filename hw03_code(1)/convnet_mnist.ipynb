{
 "cells": [
  {
   "cell_type": "markdown",
   "metadata": {},
   "source": [
    "# CMSC 636, HW3: ConvNet on MNIST dataset"
   ]
  },
  {
   "cell_type": "code",
   "execution_count": 1,
   "metadata": {},
   "outputs": [],
   "source": [
    "import tensorflow as tf\n",
    "import numpy as np\n",
    "import matplotlib.pyplot as plt\n",
    "import matplotlib.image as mpimg\n",
    "from types import SimpleNamespace\n",
    "%matplotlib inline"
   ]
  },
  {
   "cell_type": "markdown",
   "metadata": {},
   "source": [
    "## Load MNIST"
   ]
  },
  {
   "cell_type": "code",
   "execution_count": 2,
   "metadata": {},
   "outputs": [],
   "source": [
    "# load mnist dataset with labels encoded as one-hot vectors\n",
    "class Dataset():\n",
    "    def __init__(self, data):\n",
    "        self.data = data\n",
    "        self.index = 0\n",
    "        self.epochs = 0\n",
    "\n",
    "    def shuffle(self):\n",
    "        perm = np.arange(self.data[0].shape[0])\n",
    "        np.random.shuffle(perm)\n",
    "        self.data = tuple(datai[perm] for datai in self.data)\n",
    "    \n",
    "    def next_batch(self, batch_size):\n",
    "        start = self.index\n",
    "        end = self.index + batch_size\n",
    "        if end > self.data[0].shape[0]:\n",
    "            self.epochs += 1\n",
    "            self.shuffle()\n",
    "            self.index, start = 0, 0\n",
    "            end = batch_size\n",
    "        self.index = end\n",
    "        return tuple(datai[start:end, ...] for datai in self.data)\n",
    "            \n",
    "def load_mnist():\n",
    "    def preprocess(data, labels, num_classes):\n",
    "        # flatten images\n",
    "        data = data.astype(np.float32)/255.0\n",
    "        data = np.reshape(data, [data.shape[0], -1])\n",
    "        # one hot encoding\n",
    "        num_labels = labels.shape[0]\n",
    "        index_offset = np.arange(num_labels) * num_classes\n",
    "        labels_one_hot = np.zeros((num_labels, num_classes))\n",
    "        labels_one_hot.flat[index_offset + labels.ravel()] = 1\n",
    "        return data, labels_one_hot\n",
    "    train, test = tf.keras.datasets.mnist.load_data()\n",
    "    train = preprocess(train[0], train[1], 10)\n",
    "    test = preprocess(test[0], test[1], 10)\n",
    "    return SimpleNamespace(\n",
    "        train=Dataset(train), \n",
    "        test=Dataset(test))\n",
    "mnist = load_mnist()"
   ]
  },
  {
   "cell_type": "markdown",
   "metadata": {},
   "source": [
    "## Model definition"
   ]
  },
  {
   "cell_type": "code",
   "execution_count": 3,
   "metadata": {},
   "outputs": [],
   "source": [
    "sess = tf.InteractiveSession()"
   ]
  },
  {
   "cell_type": "code",
   "execution_count": 4,
   "metadata": {},
   "outputs": [],
   "source": [
    "input_size= [28, 28]\n",
    "\n",
    "n_outputs= 10\n",
    "n_input_maps= 32 #''' HINT: The images are gray scale '''\n",
    "\n",
    "n_maps = 64\n",
    "filter_size = [5, 5]\n",
    "pool_size =   [2, 2]\n",
    "n_hidden = 256\n",
    "\n",
    "batch_size= 100 # play with different values for batch size"
   ]
  },
  {
   "cell_type": "code",
   "execution_count": 5,
   "metadata": {},
   "outputs": [
    {
     "name": "stdout",
     "output_type": "stream",
     "text": [
      "WARNING:tensorflow:From /usr/local/lib/python3.7/site-packages/tensorflow/python/framework/op_def_library.py:263: colocate_with (from tensorflow.python.framework.ops) is deprecated and will be removed in a future version.\n",
      "Instructions for updating:\n",
      "Colocations handled automatically by placer.\n"
     ]
    }
   ],
   "source": [
    "# Define the ConvNet\n",
    "# 1. Define the weights for the network\n",
    "\n",
    "# weights for first convolutional layer #\n",
    "''' HINT: The variables instantiation should look something similar to: '''\n",
    "# w1 = tf.Variable(\n",
    "#     tf.truncated_normal(\n",
    "#         shape=[filter_size_dim1, filter_size_dim2, #input_maps, #output_maps], \n",
    "#         stddev=0.1), \n",
    "#     name= 'w1')\n",
    "# b1 = tf.Variable(\n",
    "#     tf.truncated_normal(\n",
    "#         shape=[#output_maps], \n",
    "#         stddev=0.1), \n",
    "#     name= 'b1')\n",
    "\n",
    "w1 = tf.Variable(\n",
    "        tf.truncated_normal(\n",
    "        shape=[filter_size[0], filter_size[1], 1, n_input_maps], \n",
    "        stddev=0.1), \n",
    "    name= 'w1')\n",
    "b1 = tf.Variable(\n",
    "        tf.truncated_normal(\n",
    "        shape=[n_input_maps], \n",
    "        stddev=0.1), \n",
    "    name= 'b1')\n",
    "\n",
    "# # weights for second convolutional layer\n",
    "w2 = tf.Variable(\n",
    "        tf.truncated_normal(\n",
    "        shape=[filter_size[0], filter_size[1], n_input_maps, n_maps], \n",
    "        stddev=0.1), \n",
    "    name= 'w2')\n",
    "b2 = tf.Variable(\n",
    "        tf.truncated_normal(\n",
    "        shape=[n_maps], \n",
    "        stddev=0.1), \n",
    "    name= 'b2')\n",
    "\n",
    "# # weights for fully connected layer\n",
    "w3 = tf.Variable(\n",
    "        tf.truncated_normal(\n",
    "        shape=[4 * 4 * n_maps, n_hidden], \n",
    "        stddev=0.1), \n",
    "    name= 'w3')\n",
    "b3 = tf.Variable(\n",
    "        tf.truncated_normal(\n",
    "        shape=[n_hidden], \n",
    "        stddev=0.1), \n",
    "    name= 'b3')\n",
    "\n",
    "# # weights for final linear layer\n",
    "w4 = tf.Variable(\n",
    "        tf.truncated_normal(\n",
    "        shape=[n_hidden, n_outputs], \n",
    "        stddev=0.1), \n",
    "    name= 'w4')\n",
    "b4 = tf.Variable(\n",
    "        tf.truncated_normal(\n",
    "        shape=[n_outputs], \n",
    "        stddev=0.1), \n",
    "    name= 'b4')\n",
    "\n",
    "# Define place holders for feeding training and testing data\n",
    "inputs = tf.placeholder(tf.float32, shape=[None, 28, 28, 1]) \n",
    "labels = tf.placeholder(tf.float32, shape=[None, n_outputs])\n",
    "\n",
    "# Construct computation graph\n",
    "conv1 = tf.nn.conv2d(inputs, w1, strides=[1, 1, 1, 1], padding='VALID')\n",
    "h1 = tf.nn.relu(conv1 + b1)\n",
    "pool1 = tf.nn.max_pool(h1, ksize=  [1, pool_size[0], pool_size[1], 1],\n",
    "                           strides=[1, pool_size[0], pool_size[1], 1], \n",
    "                           padding='VALID')\n",
    "\n",
    "conv2 = tf.nn.conv2d(pool1, w2, strides=[1, 1, 1, 1], padding='VALID')\n",
    "h2 = tf.nn.relu(conv2 + b2)\n",
    "pool2 = tf.nn.max_pool(h2, ksize=  [1, pool_size[0], pool_size[1], 1],\n",
    "                           strides=[1, pool_size[0], pool_size[1], 1], \n",
    "                           padding='VALID')\n",
    "# # Reshape maps \n",
    "# ''' HINT: where does 4*4*64 comes from? use the architecture given in the assignment to figure this out !!! '''\n",
    "conv_out = tf.reshape(pool2, [-1, 4*4*64]) \n",
    "h3 = tf.nn.relu(tf.matmul(conv_out, w3) + b3)\n",
    "\n",
    "logits  = tf.matmul(h3, w4) + b4\n",
    "loss = tf.reduce_mean(tf.nn.softmax_cross_entropy_with_logits_v2(\n",
    "    logits=logits, \n",
    "    labels=labels)) \n",
    "\n",
    "# Optimizer.\n",
    "optimizer = tf.train.AdamOptimizer(1e-3).minimize(loss) #0.001\n",
    "  \n",
    "# Predictions for the training, validation, and test data.\n",
    "yp = tf.nn.softmax(logits)"
   ]
  },
  {
   "cell_type": "markdown",
   "metadata": {},
   "source": [
    "## Training"
   ]
  },
  {
   "cell_type": "code",
   "execution_count": 6,
   "metadata": {},
   "outputs": [],
   "source": [
    "def accuracy(predictions, labels):\n",
    "    if n_outputs == 1:\n",
    "        return (100.0 * np.sum(np.greater(predictions, 0.5) == np.greater(labels, 0.5))/ predictions.shape[0])\n",
    "    else:\n",
    "        return (100.0 * np.sum(np.argmax(predictions, 1) == np.argmax(labels, 1))/ predictions.shape[0])"
   ]
  },
  {
   "cell_type": "code",
   "execution_count": 45,
   "metadata": {},
   "outputs": [
    {
     "name": "stdout",
     "output_type": "stream",
     "text": [
      "Initialized\n",
      "0 , train: 0.06  | test: 17.01  | loss: 0.012836241722106933\n",
      "200 , train: 91.085  | test: 96.47  | loss: 0.289343212749809\n",
      "400 , train: 97.33  | test: 97.35  | loss: 0.08360564906150103\n",
      "600 , train: 98.035  | test: 98.25  | loss: 0.06573127842508257\n",
      "800 , train: 98.4  | test: 98.75  | loss: 0.052325262643862516\n",
      "1000 , train: 98.755  | test: 98.67  | loss: 0.041719958810135724\n",
      "1200 , train: 98.745  | test: 98.68  | loss: 0.037894258153392\n",
      "1400 , train: 99.025  | test: 98.67  | loss: 0.03019301096748677\n",
      "1600 , train: 99.165  | test: 98.88  | loss: 0.02652749541623052\n",
      "1800 , train: 99.055  | test: 98.78  | loss: 0.02893758003541734\n",
      "2000 , train: 99.2  | test: 98.99  | loss: 0.023839355314848945\n",
      "2200 , train: 99.595  | test: 99.11  | loss: 0.013746323643317737\n",
      "2400 , train: 99.455  | test: 99.05  | loss: 0.018000142862074426\n",
      "2600 , train: 99.295  | test: 99.08  | loss: 0.021825761904910906\n",
      "2800 , train: 99.44  | test: 98.91  | loss: 0.015641579651965002\n",
      "3000 , train: 99.5  | test: 99.06  | loss: 0.01585894507894409\n",
      "3200 , train: 99.49  | test: 98.39  | loss: 0.014937506931164534\n",
      "3400 , train: 99.595  | test: 99.16  | loss: 0.01269995960574306\n",
      "3600 , train: 99.685  | test: 99.13  | loss: 0.010842913136511924\n",
      "3800 , train: 99.6  | test: 98.9  | loss: 0.012378301771095722\n",
      "4000 , train: 99.71  | test: 99.13  | loss: 0.009758694254524016\n",
      "4200 , train: 99.725  | test: 99.18  | loss: 0.00803283833192836\n",
      "4400 , train: 99.655  | test: 99.08  | loss: 0.011068020918100956\n",
      "4600 , train: 99.76  | test: 99.07  | loss: 0.00709616405185443\n",
      "4800 , train: 99.76  | test: 99.3  | loss: 0.007745111354633991\n"
     ]
    }
   ],
   "source": [
    "num_steps = 5000\n",
    "# num_steps = 1 # TODO: remove\n",
    "summary_freq= 200\n",
    "\n",
    "tf.global_variables_initializer().run()\n",
    "print('Initialized')\n",
    "\n",
    "# lists for plotting\n",
    "l_epoch = []\n",
    "l_train_accuracy = []\n",
    "l_test_accuracy = []\n",
    "\n",
    "mean_loss= 0\n",
    "train_accuracy= 0\n",
    "for step in range(num_steps):\n",
    "    # Get next batch of 100 images\n",
    "    batch_X, batch_y= mnist.train.next_batch(batch_size)\n",
    "    # The images returned by the function are formated in a matrix,\n",
    "    # where each row represents an image. Hence, we must reshape such\n",
    "    # matrix to convert the vector-representation of the images to \n",
    "    # standard 28 by 28 grey images.\n",
    "    batch_X = np.reshape(batch_X, [-1,28,28,1]) \n",
    "    # Construct Feed dictionary that consist of the input data \n",
    "    # that is going to be feed into the computation graph\n",
    "    feed_dict = {inputs : batch_X, labels : batch_y}\n",
    "    # Call the optimizer to perform one step of the training\n",
    "    _, l, train_pred = sess.run([optimizer, loss, yp],feed_dict=feed_dict)\n",
    "    \n",
    "    train_accuracy += accuracy(train_pred, batch_y)\n",
    "    mean_loss += l    \n",
    "    \n",
    "    if step%summary_freq == 0:\n",
    "        # obtain train accuracy\n",
    "        train_accuracy= train_accuracy/summary_freq\n",
    "        \n",
    "        # Evaluate the accuracy on a mini-batch of ~100 images\n",
    "        # extracted from the testing dataset\n",
    "        test_accuracy = 0\n",
    "        for i in range(100):\n",
    "            batch_X_test, batch_y_test= mnist.test.next_batch(batch_size) \n",
    "            batch_X_test = np.reshape(batch_X_test, [-1,28,28,1]) \n",
    "            pred = yp.eval(feed_dict={inputs: batch_X_test})\n",
    "            test_accuracy += accuracy(pred, batch_y_test)\n",
    "        test_accuracy = test_accuracy / 100\n",
    "        \n",
    "        l_epoch.append(step)\n",
    "        l_train_accuracy.append(train_accuracy)\n",
    "        l_test_accuracy.append(test_accuracy)\n",
    "        \n",
    "        # ------------------------------- #\n",
    "        print(step, ', train:',train_accuracy,' | test:', test_accuracy, ' | loss:', mean_loss/summary_freq)\n",
    "        mean_loss= 0\n",
    "        train_accuracy= 0"
   ]
  },
  {
   "cell_type": "markdown",
   "metadata": {},
   "source": [
    "## Test the trained model on the testing dataset"
   ]
  },
  {
   "cell_type": "code",
   "execution_count": 46,
   "metadata": {},
   "outputs": [
    {
     "name": "stdout",
     "output_type": "stream",
     "text": [
      "Number: 8\n",
      "Prediction by the model: 8\n"
     ]
    },
    {
     "data": {
      "text/plain": [
       "<matplotlib.image.AxesImage at 0x10d12ac50>"
      ]
     },
     "execution_count": 46,
     "metadata": {},
     "output_type": "execute_result"
    },
    {
     "data": {
      "image/png": "[encoded data removed]",
      "text/plain": [
       "<Figure size 432x288 with 1 Axes>"
      ]
     },
     "metadata": {
      "needs_background": "light"
     },
     "output_type": "display_data"
    }
   ],
   "source": [
    "# Acquire one sample from the mnist dataset\n",
    "test_sample_x, test_sample_y= mnist.test.next_batch(1) \n",
    "test_sample_x = np.reshape(test_sample_x, [-1,28,28,1])\n",
    "\n",
    "# Evaluate the training model on test_sample_x\n",
    "# and compare it with the actual label test_sample_y\n",
    "pred = yp.eval(feed_dict={inputs:test_sample_x})\n",
    "print('Number:', np.argmax(test_sample_y))\n",
    "print('Prediction by the model:', np.argmax(pred))\n",
    "# ------------------------------- #\n",
    "\n",
    "# Plot\n",
    "plt.imshow(np.squeeze(test_sample_x))"
   ]
  },
  {
   "cell_type": "code",
   "execution_count": 47,
   "metadata": {},
   "outputs": [
    {
     "data": {
      "text/plain": [
       "[<matplotlib.lines.Line2D at 0x10d13d8d0>]"
      ]
     },
     "execution_count": 47,
     "metadata": {},
     "output_type": "execute_result"
    },
    {
     "data": {
      "image/png": "[encoded data removed]",
      "text/plain": [
       "<Figure size 432x288 with 1 Axes>"
      ]
     },
     "metadata": {
      "needs_background": "light"
     },
     "output_type": "display_data"
    }
   ],
   "source": [
    "plt.plot(l_epoch, l_train_accuracy, label=\"Training Accuracy\")\n",
    "plt.plot(l_epoch, l_test_accuracy, label=\"Testing Accuracy\")"
   ]
  },
  {
   "cell_type": "code",
   "execution_count": null,
   "metadata": {},
   "outputs": [],
   "source": []
  }
 ],
 "metadata": {
  "kernelspec": {
   "display_name": "Python 3",
   "language": "python",
   "name": "python3"
  },
  "language_info": {
   "codemirror_mode": {
    "name": "ipython",
    "version": 3
   },
   "file_extension": ".py",
   "mimetype": "text/x-python",
   "name": "python",
   "nbconvert_exporter": "python",
   "pygments_lexer": "ipython3",
   "version": "3.7.2"
  },
  "toc": {
   "colors": {
    "hover_highlight": "#DAA520",
    "navigate_num": "#000000",
    "navigate_text": "#333333",
    "running_highlight": "#FF0000",
    "selected_highlight": "#FFD700",
    "sidebar_border": "#EEEEEE",
    "wrapper_background": "#FFFFFF"
   },
   "moveMenuLeft": true,
   "nav_menu": {
    "height": "102px",
    "width": "252px"
   },
   "navigate_menu": true,
   "number_sections": true,
   "sideBar": true,
   "threshold": 4,
   "toc_cell": false,
   "toc_section_display": "block",
   "toc_window_display": false,
   "widenNotebook": false
  }
 },
 "nbformat": 4,
 "nbformat_minor": 2
}
