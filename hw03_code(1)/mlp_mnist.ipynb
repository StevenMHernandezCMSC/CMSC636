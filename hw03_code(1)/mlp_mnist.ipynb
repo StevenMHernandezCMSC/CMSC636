{
 "cells": [
  {
   "cell_type": "markdown",
   "metadata": {},
   "source": [
    "# CMSC 636, HW3: Multilayer perceptron on MNIST dataset"
   ]
  },
  {
   "cell_type": "code",
   "execution_count": 13,
   "metadata": {},
   "outputs": [],
   "source": [
    "import tensorflow as tf\n",
    "import numpy as np\n",
    "import matplotlib.pyplot as plt\n",
    "import matplotlib.image as mpimg\n",
    "from types import SimpleNamespace\n",
    "%matplotlib inline"
   ]
  },
  {
   "cell_type": "markdown",
   "metadata": {},
   "source": [
    "## Load MNIST"
   ]
  },
  {
   "cell_type": "code",
   "execution_count": 14,
   "metadata": {},
   "outputs": [],
   "source": [
    "# load mnist dataset with labels encoded as one-hot vectors\n",
    "class Dataset():\n",
    "    def __init__(self, data):\n",
    "        self.data = data\n",
    "        self.index = 0\n",
    "        self.epochs = 0\n",
    "\n",
    "    def shuffle(self):\n",
    "        perm = np.arange(self.data[0].shape[0])\n",
    "        np.random.shuffle(perm)\n",
    "        self.data = tuple(datai[perm] for datai in self.data)\n",
    "    \n",
    "    def next_batch(self, batch_size):\n",
    "        start = self.index\n",
    "        end = self.index + batch_size\n",
    "        if end > self.data[0].shape[0]:\n",
    "            self.epochs += 1\n",
    "            self.shuffle()\n",
    "            self.index, start = 0, 0\n",
    "            end = batch_size\n",
    "        self.index = end\n",
    "        return tuple(datai[start:end, ...] for datai in self.data)\n",
    "            \n",
    "def load_mnist():\n",
    "    def preprocess(data, labels, num_classes):\n",
    "        # flatten images\n",
    "        data = data.astype(np.float32)/255.0\n",
    "        data = np.reshape(data, [data.shape[0], -1])\n",
    "        # one hot encoding\n",
    "        num_labels = labels.shape[0]\n",
    "        index_offset = np.arange(num_labels) * num_classes\n",
    "        labels_one_hot = np.zeros((num_labels, num_classes))\n",
    "        labels_one_hot.flat[index_offset + labels.ravel()] = 1\n",
    "        return data, labels_one_hot\n",
    "    train, test = tf.keras.datasets.mnist.load_data()\n",
    "    train = preprocess(train[0], train[1], 10)\n",
    "    test = preprocess(test[0], test[1], 10)\n",
    "    return SimpleNamespace(\n",
    "        train=Dataset(train), \n",
    "        test=Dataset(test))\n",
    "mnist = load_mnist()"
   ]
  },
  {
   "cell_type": "markdown",
   "metadata": {},
   "source": [
    "## Model definition"
   ]
  },
  {
   "cell_type": "code",
   "execution_count": 15,
   "metadata": {},
   "outputs": [
    {
     "name": "stderr",
     "output_type": "stream",
     "text": [
      "/usr/local/lib/python3.7/site-packages/tensorflow/python/client/session.py:1702: UserWarning: An interactive session is already active. This can cause out-of-memory errors in some cases. You must explicitly call `InteractiveSession.close()` to release resources held by the other session(s).\n",
      "  warnings.warn('An interactive session is already active. This can '\n"
     ]
    }
   ],
   "source": [
    "sess = tf.InteractiveSession()"
   ]
  },
  {
   "cell_type": "code",
   "execution_count": 16,
   "metadata": {},
   "outputs": [],
   "source": [
    "input_size= 28*28\n",
    "n_outputs=  10\n",
    "n_hidden = 100\n",
    "batch_size= 100"
   ]
  },
  {
   "cell_type": "markdown",
   "metadata": {},
   "source": [
    "Define the computation graph. i.e:\n",
    "\n",
    "h1 = relu(x w1 + b1) </br> logits = h1 w2 + b2 </br>\n",
    "\n",
    "Where \"x w1\" is a matrix multiplication between the matices x and w1. The matrix x is a matrix whose rows represent the training input data."
   ]
  },
  {
   "cell_type": "code",
   "execution_count": 17,
   "metadata": {},
   "outputs": [],
   "source": [
    "# Define MLP\n",
    "w1 = tf.Variable(\n",
    "    tf.truncated_normal(\n",
    "        shape=[input_size, n_hidden],  # TODO\n",
    "        stddev=0.1), \n",
    "    name= 'w1')\n",
    "b1 = tf.Variable(\n",
    "    tf.truncated_normal(\n",
    "        shape=[n_hidden], \n",
    "        stddev=0.1), \n",
    "    name= 'b2') # TODO\n",
    "\n",
    "w2 = tf.Variable(\n",
    "    tf.truncated_normal(\n",
    "        shape=[n_hidden, n_outputs],  # TODO\n",
    "        stddev=0.1), \n",
    "    name= 'w1') # TODO\n",
    "b2 = tf.Variable(\n",
    "    tf.truncated_normal(\n",
    "        shape=[n_outputs], \n",
    "        stddev=0.1), \n",
    "    name= 'b2')\n",
    "\n",
    "# Define train setup\n",
    "inputs = tf.placeholder(tf.float32, [None, input_size])\n",
    "labels = tf.placeholder(tf.float32, [None, n_outputs])\n",
    "\n",
    "\n",
    "h1 = tf.nn.relu(tf.matmul(inputs, w1) + b1) # TODO\n",
    "logits = tf.matmul(h1, w2) + b2 # TODO\n",
    "\n",
    "loss = tf.reduce_mean(tf.nn.softmax_cross_entropy_with_logits_v2(\n",
    "    logits=logits, \n",
    "    labels=labels)) \n",
    "\n",
    "# Optimizer.\n",
    "optimizer = tf.train.AdamOptimizer(1e-3).minimize(loss) \n",
    "  \n",
    "# Predictions for the training, validation, and test data.\n",
    "yp = tf.nn.softmax(logits)"
   ]
  },
  {
   "cell_type": "markdown",
   "metadata": {},
   "source": [
    "## Training"
   ]
  },
  {
   "cell_type": "code",
   "execution_count": 18,
   "metadata": {},
   "outputs": [],
   "source": [
    "def accuracy(predictions, labels):\n",
    "    if n_outputs == 1:\n",
    "        return (100.0 * np.sum(np.greater(predictions, 0.5) == np.greater(labels, 0.5))/ predictions.shape[0])\n",
    "    else:\n",
    "        return (100.0 * np.sum(np.argmax(predictions, 1) == np.argmax(labels, 1))/ predictions.shape[0])"
   ]
  },
  {
   "cell_type": "code",
   "execution_count": 21,
   "metadata": {},
   "outputs": [
    {
     "name": "stdout",
     "output_type": "stream",
     "text": [
      "Initialized\n",
      "0 , train: 0.03  | test: 15.0  | loss: 0.012447669506072997\n",
      "200 , train: 83.07  | test: 90.5  | loss: 0.6309427146613598\n",
      "400 , train: 92.02  | test: 92.3  | loss: 0.2827478981018066\n",
      "600 , train: 93.795  | test: 93.8  | loss: 0.21826235488057136\n",
      "800 , train: 94.425  | test: 95.1  | loss: 0.1970987695455551\n",
      "1000 , train: 94.79  | test: 95.6  | loss: 0.17614272005856038\n",
      "1200 , train: 95.93  | test: 95.3  | loss: 0.14379482040181757\n",
      "1400 , train: 96.22  | test: 96.2  | loss: 0.13470456989482046\n",
      "1600 , train: 96.275  | test: 96.9  | loss: 0.12808325171470641\n",
      "1800 , train: 96.995  | test: 96.7  | loss: 0.10512300491333008\n",
      "2000 , train: 97.02  | test: 97.2  | loss: 0.10650978866033256\n",
      "2200 , train: 97.13  | test: 96.9  | loss: 0.09928170535713435\n",
      "2400 , train: 97.49  | test: 96.9  | loss: 0.08844825386069716\n",
      "2600 , train: 97.71  | test: 97.6  | loss: 0.08143150527961553\n",
      "2800 , train: 97.515  | test: 97.9  | loss: 0.08013589525595308\n",
      "3000 , train: 98.16  | test: 97.2  | loss: 0.06672249712515622\n",
      "3200 , train: 98.015  | test: 96.9  | loss: 0.06897228586487472\n",
      "3400 , train: 97.865  | test: 96.1  | loss: 0.07078960760962218\n",
      "3600 , train: 98.46  | test: 97.7  | loss: 0.05261406635865569\n",
      "3800 , train: 98.155  | test: 97.4  | loss: 0.06102538303472102\n",
      "4000 , train: 98.28  | test: 97.1  | loss: 0.060445376536808905\n",
      "4200 , train: 98.46  | test: 97.4  | loss: 0.05226721125654876\n",
      "4400 , train: 98.555  | test: 97.5  | loss: 0.047645000379998234\n",
      "4600 , train: 98.535  | test: 97.3  | loss: 0.05052513258298859\n",
      "4800 , train: 98.785  | test: 97.8  | loss: 0.042732337536290285\n",
      "5000 , train: 98.8  | test: 97.8  | loss: 0.041832841655705125\n",
      "5200 , train: 98.655  | test: 98.4  | loss: 0.0420196156296879\n",
      "5400 , train: 99.0  | test: 97.6  | loss: 0.03780588091351092\n",
      "5600 , train: 98.995  | test: 97.9  | loss: 0.03513094969559461\n",
      "5800 , train: 98.93  | test: 97.7  | loss: 0.03545518674887717\n",
      "6000 , train: 99.14  | test: 97.3  | loss: 0.031269230642355976\n",
      "6200 , train: 99.185  | test: 96.7  | loss: 0.02998631343943998\n",
      "6400 , train: 99.04  | test: 98.1  | loss: 0.03168832601048052\n",
      "6600 , train: 99.355  | test: 98.3  | loss: 0.026239826118107885\n",
      "6800 , train: 99.325  | test: 98.1  | loss: 0.025886803696630524\n",
      "7000 , train: 99.265  | test: 98.4  | loss: 0.027253441355424003\n",
      "7200 , train: 99.47  | test: 98.2  | loss: 0.020076910132775082\n",
      "7400 , train: 99.375  | test: 98.1  | loss: 0.025028177365893498\n",
      "7600 , train: 99.34  | test: 98.0  | loss: 0.02305212373379618\n",
      "7800 , train: 99.59  | test: 97.6  | loss: 0.01899422305985354\n",
      "8000 , train: 99.47  | test: 97.8  | loss: 0.020190680202795193\n",
      "8200 , train: 99.48  | test: 98.5  | loss: 0.019901453459169716\n",
      "8400 , train: 99.68  | test: 98.1  | loss: 0.015056460016057826\n",
      "8600 , train: 99.6  | test: 97.8  | loss: 0.01671987321344204\n",
      "8800 , train: 99.53  | test: 97.4  | loss: 0.01821549547894392\n",
      "9000 , train: 99.735  | test: 97.9  | loss: 0.012886274980846792\n",
      "9200 , train: 99.605  | test: 97.4  | loss: 0.01532053855538834\n",
      "9400 , train: 99.66  | test: 97.5  | loss: 0.015509972866857425\n",
      "9600 , train: 99.885  | test: 98.0  | loss: 0.009401836020697375\n",
      "9800 , train: 99.74  | test: 97.9  | loss: 0.01252769135753624\n"
     ]
    }
   ],
   "source": [
    "num_steps = 10000\n",
    "summary_freq= 200\n",
    "n_test_logg= 10 # number of evaluations on test dataset (for logging information)\n",
    "\n",
    "tf.global_variables_initializer().run()\n",
    "print('Initialized')\n",
    "\n",
    "# lists for plotting\n",
    "l_epoch = []\n",
    "l_train_accuracy = []\n",
    "l_test_accuracy = []\n",
    "\n",
    "mean_loss= 0\n",
    "train_accuracy= 0\n",
    "# Perform num_steps training steps\n",
    "for step in range(num_steps):\n",
    "    # Get next batch of 100 images\n",
    "    batch_X, batch_y= mnist.train.next_batch(batch_size)    \n",
    "    # Construct Feed dictionary that consist of the input data \n",
    "    # that is going to be feed into the computation graph\n",
    "    feed_dict = {inputs : batch_X, labels : batch_y}\n",
    "    # Call the optimizer to perform one step of the training\n",
    "    _, l, train_pred = sess.run([optimizer, loss, yp],feed_dict=feed_dict)\n",
    "    \n",
    "    train_accuracy += accuracy(train_pred, batch_y)\n",
    "    mean_loss += l    \n",
    "    if step%summary_freq == 0:\n",
    "        # Obtain train accuracy\n",
    "        train_accuracy= train_accuracy/summary_freq\n",
    "        # Evaluate accuracy on test dataset\n",
    "        test_accuracy= 0\n",
    "        for i in range(n_test_logg):\n",
    "            batch_X_test, batch_y_test= mnist.test.next_batch(batch_size) \n",
    "            pred = yp.eval(feed_dict={inputs: batch_X_test})\n",
    "            test_accuracy += accuracy(pred, batch_y_test)\n",
    "        test_accuracy= test_accuracy/n_test_logg\n",
    "        \n",
    "        l_epoch.append(step)\n",
    "        l_train_accuracy.append(train_accuracy)\n",
    "        l_test_accuracy.append(test_accuracy)\n",
    "            \n",
    "        print(step, ', train:',train_accuracy,' | test:', test_accuracy, ' | loss:', mean_loss/summary_freq)\n",
    "        mean_loss= 0\n",
    "        train_accuracy= 0"
   ]
  },
  {
   "cell_type": "markdown",
   "metadata": {},
   "source": [
    "## Test the model using testing dataset"
   ]
  },
  {
   "cell_type": "code",
   "execution_count": 12,
   "metadata": {},
   "outputs": [
    {
     "name": "stdout",
     "output_type": "stream",
     "text": [
      "Actual number: 9\n",
      "Prediction by the model: 5\n"
     ]
    },
    {
     "data": {
      "text/plain": [
       "<matplotlib.image.AxesImage at 0x126746080>"
      ]
     },
     "execution_count": 12,
     "metadata": {},
     "output_type": "execute_result"
    },
    {
     "data": {
      "image/png": "[encoded data removed]",
      "text/plain": [
       "<Figure size 432x288 with 1 Axes>"
      ]
     },
     "metadata": {
      "needs_background": "light"
     },
     "output_type": "display_data"
    }
   ],
   "source": [
    "# Acquire one sample from the mnist dataset\n",
    "test_sample_x, test_sample_y= mnist.test.next_batch(1) \n",
    "\n",
    "# Get a prediction for this sample\n",
    "pred = yp.eval(feed_dict={inputs: test_sample_x})\n",
    "\n",
    "print('Actual number:', np.argmax(test_sample_y))\n",
    "print('Prediction by the model:', np.argmax(pred))\n",
    "\n",
    "# plot\n",
    "plt.imshow(np.reshape(test_sample_x, [28,28]))"
   ]
  },
  {
   "cell_type": "code",
   "execution_count": 24,
   "metadata": {},
   "outputs": [
    {
     "data": {
      "text/plain": [
       "[<matplotlib.lines.Line2D at 0x123d6f630>]"
      ]
     },
     "execution_count": 24,
     "metadata": {},
     "output_type": "execute_result"
    },
    {
     "data": {
      "image/png": "[encoded data removed]",
      "text/plain": [
       "<Figure size 432x288 with 1 Axes>"
      ]
     },
     "metadata": {
      "needs_background": "light"
     },
     "output_type": "display_data"
    }
   ],
   "source": [
    "plt.plot(l_epoch, l_train_accuracy, label=\"Training Accuracy\")\n",
    "plt.plot(l_epoch, l_test_accuracy, label=\"Testing Accuracy\")"
   ]
  },
  {
   "cell_type": "code",
   "execution_count": null,
   "metadata": {},
   "outputs": [],
   "source": []
  }
 ],
 "metadata": {
  "kernelspec": {
   "display_name": "Python 3",
   "language": "python",
   "name": "python3"
  },
  "language_info": {
   "codemirror_mode": {
    "name": "ipython",
    "version": 3
   },
   "file_extension": ".py",
   "mimetype": "text/x-python",
   "name": "python",
   "nbconvert_exporter": "python",
   "pygments_lexer": "ipython3",
   "version": "3.7.2"
  },
  "toc": {
   "colors": {
    "hover_highlight": "#DAA520",
    "navigate_num": "#000000",
    "navigate_text": "#333333",
    "running_highlight": "#FF0000",
    "selected_highlight": "#FFD700",
    "sidebar_border": "#EEEEEE",
    "wrapper_background": "#FFFFFF"
   },
   "moveMenuLeft": true,
   "nav_menu": {
    "height": "102px",
    "width": "252px"
   },
   "navigate_menu": true,
   "number_sections": true,
   "sideBar": true,
   "threshold": 4,
   "toc_cell": false,
   "toc_section_display": "block",
   "toc_window_display": false,
   "widenNotebook": false
  }
 },
 "nbformat": 4,
 "nbformat_minor": 2
}
