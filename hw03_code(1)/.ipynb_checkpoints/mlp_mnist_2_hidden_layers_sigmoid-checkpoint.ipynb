{
 "cells": [
  {
   "cell_type": "markdown",
   "metadata": {},
   "source": [
    "# CMSC 636, HW3: Multilayer perceptron on MNIST dataset"
   ]
  },
  {
   "cell_type": "code",
   "execution_count": 2,
   "metadata": {},
   "outputs": [],
   "source": [
    "import tensorflow as tf\n",
    "import numpy as np\n",
    "import matplotlib.pyplot as plt\n",
    "import matplotlib.image as mpimg\n",
    "from types import SimpleNamespace\n",
    "%matplotlib inline"
   ]
  },
  {
   "cell_type": "markdown",
   "metadata": {},
   "source": [
    "## Load MNIST"
   ]
  },
  {
   "cell_type": "code",
   "execution_count": 3,
   "metadata": {},
   "outputs": [],
   "source": [
    "# load mnist dataset with labels encoded as one-hot vectors\n",
    "class Dataset():\n",
    "    def __init__(self, data):\n",
    "        self.data = data\n",
    "        self.index = 0\n",
    "        self.epochs = 0\n",
    "\n",
    "    def shuffle(self):\n",
    "        perm = np.arange(self.data[0].shape[0])\n",
    "        np.random.shuffle(perm)\n",
    "        self.data = tuple(datai[perm] for datai in self.data)\n",
    "    \n",
    "    def next_batch(self, batch_size):\n",
    "        start = self.index\n",
    "        end = self.index + batch_size\n",
    "        if end > self.data[0].shape[0]:\n",
    "            self.epochs += 1\n",
    "            self.shuffle()\n",
    "            self.index, start = 0, 0\n",
    "            end = batch_size\n",
    "        self.index = end\n",
    "        return tuple(datai[start:end, ...] for datai in self.data)\n",
    "            \n",
    "def load_mnist():\n",
    "    def preprocess(data, labels, num_classes):\n",
    "        # flatten images\n",
    "        data = data.astype(np.float32)/255.0\n",
    "        data = np.reshape(data, [data.shape[0], -1])\n",
    "        # one hot encoding\n",
    "        num_labels = labels.shape[0]\n",
    "        index_offset = np.arange(num_labels) * num_classes\n",
    "        labels_one_hot = np.zeros((num_labels, num_classes))\n",
    "        labels_one_hot.flat[index_offset + labels.ravel()] = 1\n",
    "        return data, labels_one_hot\n",
    "    train, test = tf.keras.datasets.mnist.load_data()\n",
    "    train = preprocess(train[0], train[1], 10)\n",
    "    test = preprocess(test[0], test[1], 10)\n",
    "    return SimpleNamespace(\n",
    "        train=Dataset(train), \n",
    "        test=Dataset(test))\n",
    "mnist = load_mnist()"
   ]
  },
  {
   "cell_type": "markdown",
   "metadata": {},
   "source": [
    "## Model definition"
   ]
  },
  {
   "cell_type": "code",
   "execution_count": 4,
   "metadata": {},
   "outputs": [],
   "source": [
    "sess = tf.InteractiveSession()"
   ]
  },
  {
   "cell_type": "code",
   "execution_count": 5,
   "metadata": {},
   "outputs": [],
   "source": [
    "input_size= 28*28\n",
    "n_outputs=  10\n",
    "n_hidden = 100\n",
    "batch_size= 100"
   ]
  },
  {
   "cell_type": "markdown",
   "metadata": {},
   "source": [
    "Define the computation graph. i.e:\n",
    "\n",
    "h1 = relu(x w1 + b1) </br> logits = h1 w2 + b2 </br>\n",
    "\n",
    "Where \"x w1\" is a matrix multiplication between the matices x and w1. The matrix x is a matrix whose rows represent the training input data."
   ]
  },
  {
   "cell_type": "code",
   "execution_count": 6,
   "metadata": {},
   "outputs": [
    {
     "name": "stdout",
     "output_type": "stream",
     "text": [
      "WARNING:tensorflow:From /usr/local/lib/python3.7/site-packages/tensorflow/python/framework/op_def_library.py:263: colocate_with (from tensorflow.python.framework.ops) is deprecated and will be removed in a future version.\n",
      "Instructions for updating:\n",
      "Colocations handled automatically by placer.\n"
     ]
    }
   ],
   "source": [
    "# Define MLP\n",
    "w1 = tf.Variable(\n",
    "    tf.truncated_normal(\n",
    "        shape=[input_size, n_hidden],  # TODO\n",
    "        stddev=0.1), \n",
    "    name= 'w1')\n",
    "b1 = tf.Variable(\n",
    "    tf.truncated_normal(\n",
    "        shape=[n_hidden], \n",
    "        stddev=0.1), \n",
    "    name= 'b2') # TODO\n",
    "\n",
    "w2 = tf.Variable(\n",
    "    tf.truncated_normal(\n",
    "        shape=[n_hidden, n_outputs],  # TODO\n",
    "        stddev=0.1), \n",
    "    name= 'w1') # TODO\n",
    "b2 = tf.Variable(\n",
    "    tf.truncated_normal(\n",
    "        shape=[n_outputs], \n",
    "        stddev=0.1), \n",
    "    name= 'b2')\n",
    "\n",
    "# Define train setup\n",
    "inputs = tf.placeholder(tf.float32, [None, input_size])\n",
    "labels = tf.placeholder(tf.float32, [None, n_outputs])\n",
    "\n",
    "\n",
    "h1 = tf.nn.relu(tf.matmul(inputs, w1) + b1) # TODO\n",
    "logits = tf.matmul(h1, w2) + b2 # TODO\n",
    "\n",
    "loss = tf.reduce_mean(tf.nn.softmax_cross_entropy_with_logits_v2(\n",
    "    logits=logits, \n",
    "    labels=labels)) \n",
    "\n",
    "# Optimizer.\n",
    "optimizer = tf.train.AdamOptimizer(1e-3).minimize(loss) \n",
    "  \n",
    "# Predictions for the training, validation, and test data.\n",
    "yp = tf.nn.softmax(logits)"
   ]
  },
  {
   "cell_type": "markdown",
   "metadata": {},
   "source": [
    "## Training"
   ]
  },
  {
   "cell_type": "code",
   "execution_count": 7,
   "metadata": {},
   "outputs": [],
   "source": [
    "def accuracy(predictions, labels):\n",
    "    if n_outputs == 1:\n",
    "        return (100.0 * np.sum(np.greater(predictions, 0.5) == np.greater(labels, 0.5))/ predictions.shape[0])\n",
    "    else:\n",
    "        return (100.0 * np.sum(np.argmax(predictions, 1) == np.argmax(labels, 1))/ predictions.shape[0])"
   ]
  },
  {
   "cell_type": "code",
   "execution_count": 8,
   "metadata": {},
   "outputs": [
    {
     "name": "stdout",
     "output_type": "stream",
     "text": [
      "Initialized\n",
      "0 , train: 0.05  | test: 9.2  | loss: 0.012290966510772706\n",
      "200 , train: 82.26  | test: 86.9  | loss: 0.6576105801016092\n",
      "400 , train: 91.42  | test: 89.8  | loss: 0.3079544985294342\n",
      "600 , train: 93.195  | test: 91.3  | loss: 0.241419835165143\n",
      "800 , train: 94.44  | test: 92.9  | loss: 0.1947700461000204\n",
      "1000 , train: 95.0  | test: 97.1  | loss: 0.17838887935504316\n",
      "1200 , train: 95.505  | test: 95.5  | loss: 0.15944334097206592\n",
      "1400 , train: 96.055  | test: 98.4  | loss: 0.1398418141528964\n",
      "1600 , train: 96.32  | test: 98.5  | loss: 0.1289626108855009\n",
      "1800 , train: 96.655  | test: 96.6  | loss: 0.11749233668670059\n",
      "2000 , train: 97.065  | test: 97.4  | loss: 0.10536253722384573\n",
      "2200 , train: 97.105  | test: 96.1  | loss: 0.10039941374212503\n",
      "2400 , train: 97.34  | test: 97.1  | loss: 0.09337995091453194\n",
      "2600 , train: 97.695  | test: 97.0  | loss: 0.08210410128347576\n",
      "2800 , train: 97.565  | test: 96.8  | loss: 0.08425562762655318\n",
      "3000 , train: 97.755  | test: 96.8  | loss: 0.07813238651491701\n",
      "3200 , train: 98.06  | test: 97.7  | loss: 0.06661648285575211\n",
      "3400 , train: 97.985  | test: 97.7  | loss: 0.06959934249985963\n",
      "3600 , train: 98.16  | test: 96.7  | loss: 0.06521995353512466\n",
      "3800 , train: 98.565  | test: 97.4  | loss: 0.05636370628373697\n",
      "4000 , train: 98.275  | test: 97.1  | loss: 0.05913821845781058\n",
      "4200 , train: 98.395  | test: 98.0  | loss: 0.055289983730763194\n",
      "4400 , train: 98.695  | test: 97.9  | loss: 0.04715707353781909\n",
      "4600 , train: 98.545  | test: 98.2  | loss: 0.05079000615980476\n",
      "4800 , train: 98.6  | test: 97.3  | loss: 0.04933705968316644\n",
      "5000 , train: 98.885  | test: 97.5  | loss: 0.041768213547766206\n",
      "5200 , train: 98.845  | test: 97.8  | loss: 0.04062145226635039\n",
      "5400 , train: 98.765  | test: 97.9  | loss: 0.04213570861378685\n",
      "5600 , train: 99.16  | test: 97.6  | loss: 0.031386281908489765\n",
      "5800 , train: 98.93  | test: 97.6  | loss: 0.03729601305676624\n",
      "6000 , train: 98.945  | test: 97.5  | loss: 0.038536814893595873\n",
      "6200 , train: 99.195  | test: 97.6  | loss: 0.030094584960024803\n",
      "6400 , train: 99.075  | test: 97.2  | loss: 0.029753493795869872\n",
      "6600 , train: 99.16  | test: 97.8  | loss: 0.03103285339428112\n",
      "6800 , train: 99.45  | test: 97.5  | loss: 0.024075311303604394\n",
      "7000 , train: 99.2  | test: 98.6  | loss: 0.02973052865534555\n",
      "7200 , train: 99.385  | test: 98.3  | loss: 0.024691738283727317\n",
      "7400 , train: 99.535  | test: 97.6  | loss: 0.02070726495818235\n",
      "7600 , train: 99.385  | test: 97.5  | loss: 0.02262626089155674\n",
      "7800 , train: 99.27  | test: 97.4  | loss: 0.02538604297908023\n",
      "8000 , train: 99.525  | test: 97.5  | loss: 0.019490961313131265\n",
      "8200 , train: 99.64  | test: 97.2  | loss: 0.016685100102913564\n",
      "8400 , train: 99.48  | test: 97.5  | loss: 0.020151968230493367\n",
      "8600 , train: 99.61  | test: 99.1  | loss: 0.016164191956631838\n",
      "8800 , train: 99.665  | test: 98.2  | loss: 0.01582332328078337\n",
      "9000 , train: 99.575  | test: 97.7  | loss: 0.017489471852895802\n",
      "9200 , train: 99.66  | test: 98.3  | loss: 0.015218530556303449\n",
      "9400 , train: 99.705  | test: 97.9  | loss: 0.013442138804239221\n",
      "9600 , train: 99.71  | test: 98.2  | loss: 0.013594528697431087\n",
      "9800 , train: 99.795  | test: 98.4  | loss: 0.010422236272715964\n"
     ]
    }
   ],
   "source": [
    "num_steps = 10000\n",
    "summary_freq= 200\n",
    "n_test_logg= 10 # number of evaluations on test dataset (for logging information)\n",
    "\n",
    "tf.global_variables_initializer().run()\n",
    "print('Initialized')\n",
    "\n",
    "mean_loss= 0\n",
    "train_accuracy= 0\n",
    "# Perform num_steps training steps\n",
    "for step in range(num_steps):\n",
    "    # Get next batch of 100 images\n",
    "    batch_X, batch_y= mnist.train.next_batch(batch_size)    \n",
    "    # Construct Feed dictionary that consist of the input data \n",
    "    # that is going to be feed into the computation graph\n",
    "    feed_dict = {inputs : batch_X, labels : batch_y}\n",
    "    # Call the optimizer to perform one step of the training\n",
    "    _, l, train_pred = sess.run([optimizer, loss, yp],feed_dict=feed_dict)\n",
    "    \n",
    "    train_accuracy += accuracy(train_pred, batch_y)\n",
    "    mean_loss += l    \n",
    "    if step%summary_freq == 0:\n",
    "        # Obtain train accuracy\n",
    "        train_accuracy= train_accuracy/summary_freq\n",
    "        # Evaluate accuracy on test dataset\n",
    "        test_accuracy= 0\n",
    "        for i in range(n_test_logg):\n",
    "            batch_X_test, batch_y_test= mnist.test.next_batch(batch_size) \n",
    "            pred = yp.eval(feed_dict={inputs: batch_X_test})\n",
    "            test_accuracy += accuracy(pred, batch_y_test)\n",
    "        test_accuracy= test_accuracy/n_test_logg\n",
    "            \n",
    "        print(step, ', train:',train_accuracy,' | test:', test_accuracy, ' | loss:', mean_loss/summary_freq)\n",
    "        mean_loss= 0\n",
    "        train_accuracy= 0"
   ]
  },
  {
   "cell_type": "markdown",
   "metadata": {},
   "source": [
    "## Test the model using testing dataset"
   ]
  },
  {
   "cell_type": "code",
   "execution_count": 60,
   "metadata": {},
   "outputs": [
    {
     "name": "stdout",
     "output_type": "stream",
     "text": [
      "Actual number: 3\n",
      "Prediction by the model: 3\n"
     ]
    },
    {
     "data": {
      "text/plain": [
       "<matplotlib.image.AxesImage at 0x10a239940>"
      ]
     },
     "execution_count": 60,
     "metadata": {},
     "output_type": "execute_result"
    },
    {
     "data": {
      "image/png": "[encoded data removed]",
      "text/plain": [
       "<Figure size 432x288 with 1 Axes>"
      ]
     },
     "metadata": {
      "needs_background": "light"
     },
     "output_type": "display_data"
    }
   ],
   "source": [
    "# Acquire one sample from the mnist dataset\n",
    "test_sample_x, test_sample_y= mnist.test.next_batch(1) \n",
    "\n",
    "# Get a prediction for this sample\n",
    "pred = yp.eval(feed_dict={inputs: test_sample_x})\n",
    "\n",
    "print('Actual number:', np.argmax(test_sample_y))\n",
    "print('Prediction by the model:', np.argmax(pred))\n",
    "\n",
    "# plot\n",
    "plt.imshow(np.reshape(test_sample_x, [28,28]))"
   ]
  },
  {
   "cell_type": "code",
   "execution_count": null,
   "metadata": {},
   "outputs": [],
   "source": []
  }
 ],
 "metadata": {
  "kernelspec": {
   "display_name": "Python 3",
   "language": "python",
   "name": "python3"
  },
  "language_info": {
   "codemirror_mode": {
    "name": "ipython",
    "version": 3
   },
   "file_extension": ".py",
   "mimetype": "text/x-python",
   "name": "python",
   "nbconvert_exporter": "python",
   "pygments_lexer": "ipython3",
   "version": "3.7.2"
  },
  "toc": {
   "colors": {
    "hover_highlight": "#DAA520",
    "navigate_num": "#000000",
    "navigate_text": "#333333",
    "running_highlight": "#FF0000",
    "selected_highlight": "#FFD700",
    "sidebar_border": "#EEEEEE",
    "wrapper_background": "#FFFFFF"
   },
   "moveMenuLeft": true,
   "nav_menu": {
    "height": "102px",
    "width": "252px"
   },
   "navigate_menu": true,
   "number_sections": true,
   "sideBar": true,
   "threshold": 4,
   "toc_cell": false,
   "toc_section_display": "block",
   "toc_window_display": false,
   "widenNotebook": false
  }
 },
 "nbformat": 4,
 "nbformat_minor": 2
}
