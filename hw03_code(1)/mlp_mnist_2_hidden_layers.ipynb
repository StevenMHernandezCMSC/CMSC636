{
 "cells": [
  {
   "cell_type": "markdown",
   "metadata": {},
   "source": [
    "# CMSC 636, HW3: Multilayer perceptron on MNIST dataset"
   ]
  },
  {
   "cell_type": "code",
   "execution_count": 1,
   "metadata": {},
   "outputs": [],
   "source": [
    "import tensorflow as tf\n",
    "import numpy as np\n",
    "import matplotlib.pyplot as plt\n",
    "import matplotlib.image as mpimg\n",
    "from types import SimpleNamespace\n",
    "%matplotlib inline"
   ]
  },
  {
   "cell_type": "markdown",
   "metadata": {},
   "source": [
    "## Load MNIST"
   ]
  },
  {
   "cell_type": "code",
   "execution_count": 2,
   "metadata": {},
   "outputs": [],
   "source": [
    "# load mnist dataset with labels encoded as one-hot vectors\n",
    "class Dataset():\n",
    "    def __init__(self, data):\n",
    "        self.data = data\n",
    "        self.index = 0\n",
    "        self.epochs = 0\n",
    "\n",
    "    def shuffle(self):\n",
    "        perm = np.arange(self.data[0].shape[0])\n",
    "        np.random.shuffle(perm)\n",
    "        self.data = tuple(datai[perm] for datai in self.data)\n",
    "    \n",
    "    def next_batch(self, batch_size):\n",
    "        start = self.index\n",
    "        end = self.index + batch_size\n",
    "        if end > self.data[0].shape[0]:\n",
    "            self.epochs += 1\n",
    "            self.shuffle()\n",
    "            self.index, start = 0, 0\n",
    "            end = batch_size\n",
    "        self.index = end\n",
    "        return tuple(datai[start:end, ...] for datai in self.data)\n",
    "            \n",
    "def load_mnist():\n",
    "    def preprocess(data, labels, num_classes):\n",
    "        # flatten images\n",
    "        data = data.astype(np.float32)/255.0\n",
    "        data = np.reshape(data, [data.shape[0], -1])\n",
    "        # one hot encoding\n",
    "        num_labels = labels.shape[0]\n",
    "        index_offset = np.arange(num_labels) * num_classes\n",
    "        labels_one_hot = np.zeros((num_labels, num_classes))\n",
    "        labels_one_hot.flat[index_offset + labels.ravel()] = 1\n",
    "        return data, labels_one_hot\n",
    "    train, test = tf.keras.datasets.mnist.load_data()\n",
    "    train = preprocess(train[0], train[1], 10)\n",
    "    test = preprocess(test[0], test[1], 10)\n",
    "    return SimpleNamespace(\n",
    "        train=Dataset(train), \n",
    "        test=Dataset(test))\n",
    "mnist = load_mnist()"
   ]
  },
  {
   "cell_type": "markdown",
   "metadata": {},
   "source": [
    "## Model definition"
   ]
  },
  {
   "cell_type": "code",
   "execution_count": 3,
   "metadata": {},
   "outputs": [],
   "source": [
    "sess = tf.InteractiveSession()"
   ]
  },
  {
   "cell_type": "code",
   "execution_count": 4,
   "metadata": {},
   "outputs": [],
   "source": [
    "input_size= 28*28\n",
    "n_outputs=  10\n",
    "n_hidden = 100\n",
    "batch_size= 100"
   ]
  },
  {
   "cell_type": "markdown",
   "metadata": {},
   "source": [
    "Define the computation graph. i.e:\n",
    "\n",
    "h1 = relu(x w1 + b1) </br> logits = h1 w2 + b2 </br>\n",
    "\n",
    "Where \"x w1\" is a matrix multiplication between the matices x and w1. The matrix x is a matrix whose rows represent the training input data."
   ]
  },
  {
   "cell_type": "code",
   "execution_count": 9,
   "metadata": {},
   "outputs": [],
   "source": [
    "# Define MLP\n",
    "w1 = tf.Variable(\n",
    "    tf.truncated_normal(\n",
    "        shape=[input_size, n_hidden],\n",
    "        stddev=0.1), \n",
    "    name= 'w1')\n",
    "b1 = tf.Variable(\n",
    "    tf.truncated_normal(\n",
    "        shape=[n_hidden], \n",
    "        stddev=0.1), \n",
    "    name= 'b2') # TODO\n",
    "\n",
    "w2 = tf.Variable(\n",
    "    tf.truncated_normal(\n",
    "        shape=[n_hidden, n_outputs],\n",
    "        stddev=0.1), \n",
    "    name= 'w2') # TODO\n",
    "b2 = tf.Variable(\n",
    "    tf.truncated_normal(\n",
    "        shape=[n_outputs], \n",
    "        stddev=0.1), \n",
    "    name= 'b2')\n",
    "\n",
    "w3 = tf.Variable(\n",
    "    tf.truncated_normal(\n",
    "        shape=[n_hidden, n_outputs],\n",
    "        stddev=0.1), \n",
    "    name= 'w3') # TODO\n",
    "b3 = tf.Variable(\n",
    "    tf.truncated_normal(\n",
    "        shape=[n_outputs], \n",
    "        stddev=0.1), \n",
    "    name= 'b3')\n",
    "\n",
    "# Define train setup\n",
    "inputs = tf.placeholder(tf.float32, [None, input_size])\n",
    "labels = tf.placeholder(tf.float32, [None, n_outputs])\n",
    "\n",
    "\n",
    "h1 = tf.nn.relu(tf.matmul(inputs, w1) + b1)\n",
    "h2 = tf.nn.relu(tf.matmul(h1, w2) + b2)\n",
    "logits = tf.matmul(h1, w3) + b3\n",
    "\n",
    "loss = tf.reduce_mean(tf.nn.softmax_cross_entropy_with_logits_v2(\n",
    "    logits=logits, \n",
    "    labels=labels)) \n",
    "\n",
    "# Optimizer.\n",
    "optimizer = tf.train.AdamOptimizer(1e-3).minimize(loss) \n",
    "  \n",
    "# Predictions for the training, validation, and test data.\n",
    "yp = tf.nn.softmax(logits)"
   ]
  },
  {
   "cell_type": "markdown",
   "metadata": {},
   "source": [
    "## Training"
   ]
  },
  {
   "cell_type": "code",
   "execution_count": 10,
   "metadata": {},
   "outputs": [],
   "source": [
    "def accuracy(predictions, labels):\n",
    "    if n_outputs == 1:\n",
    "        return (100.0 * np.sum(np.greater(predictions, 0.5) == np.greater(labels, 0.5))/ predictions.shape[0])\n",
    "    else:\n",
    "        return (100.0 * np.sum(np.argmax(predictions, 1) == np.argmax(labels, 1))/ predictions.shape[0])"
   ]
  },
  {
   "cell_type": "code",
   "execution_count": 15,
   "metadata": {},
   "outputs": [
    {
     "name": "stdout",
     "output_type": "stream",
     "text": [
      "Initialized\n",
      "0 , train: 0.055  | test: 17.3  | loss: 0.012469938993453979\n",
      "200 , train: 82.87  | test: 90.0  | loss: 0.6320286952704192\n",
      "400 , train: 91.6  | test: 93.9  | loss: 0.29736926265060903\n",
      "600 , train: 93.49  | test: 93.8  | loss: 0.23146034937351942\n",
      "800 , train: 94.215  | test: 94.0  | loss: 0.20456386815756558\n",
      "1000 , train: 94.85  | test: 95.1  | loss: 0.18134552240371704\n",
      "1200 , train: 95.58  | test: 96.9  | loss: 0.15456819029524924\n",
      "1400 , train: 95.635  | test: 96.2  | loss: 0.14621658761054276\n",
      "1600 , train: 96.145  | test: 95.0  | loss: 0.13357328878715635\n",
      "1800 , train: 96.585  | test: 96.3  | loss: 0.11669670758768916\n",
      "2000 , train: 96.66  | test: 97.8  | loss: 0.11570818544365466\n",
      "2200 , train: 97.185  | test: 97.0  | loss: 0.10228594450280071\n",
      "2400 , train: 97.36  | test: 96.5  | loss: 0.09036898610182106\n",
      "2600 , train: 97.385  | test: 97.0  | loss: 0.09126939804293216\n",
      "2800 , train: 97.42  | test: 97.5  | loss: 0.0900738795567304\n",
      "3000 , train: 97.855  | test: 97.0  | loss: 0.07510880662128329\n",
      "3200 , train: 97.915  | test: 96.2  | loss: 0.07271841388195753\n",
      "3400 , train: 97.81  | test: 97.6  | loss: 0.07458301602862775\n",
      "3600 , train: 98.205  | test: 97.6  | loss: 0.0619165976671502\n",
      "3800 , train: 98.09  | test: 97.0  | loss: 0.06149002418853342\n",
      "4000 , train: 98.17  | test: 98.1  | loss: 0.0646082636481151\n",
      "4200 , train: 98.535  | test: 97.0  | loss: 0.05093692922964692\n",
      "4400 , train: 98.535  | test: 97.5  | loss: 0.05081426648190245\n",
      "4600 , train: 98.225  | test: 97.5  | loss: 0.059125785790383814\n",
      "4800 , train: 98.745  | test: 97.0  | loss: 0.04391252928879112\n",
      "5000 , train: 98.615  | test: 97.3  | loss: 0.04570789166726172\n",
      "5200 , train: 98.615  | test: 97.2  | loss: 0.046278221849352125\n",
      "5400 , train: 98.95  | test: 97.7  | loss: 0.03739454532507807\n",
      "5600 , train: 98.955  | test: 97.8  | loss: 0.03803988825064152\n",
      "5800 , train: 98.765  | test: 96.7  | loss: 0.04207523703807965\n",
      "6000 , train: 99.235  | test: 97.6  | loss: 0.031166705961804837\n",
      "6200 , train: 99.065  | test: 98.4  | loss: 0.03382660468574614\n",
      "6400 , train: 98.865  | test: 97.1  | loss: 0.03758621727814898\n",
      "6600 , train: 99.31  | test: 97.6  | loss: 0.027370525012956934\n",
      "6800 , train: 99.085  | test: 98.2  | loss: 0.03291499494342134\n",
      "7000 , train: 99.26  | test: 97.7  | loss: 0.027874707570299508\n",
      "7200 , train: 99.315  | test: 98.3  | loss: 0.02682592924684286\n",
      "7400 , train: 99.385  | test: 97.7  | loss: 0.02361240743601229\n",
      "7600 , train: 99.345  | test: 97.9  | loss: 0.024375597882317378\n",
      "7800 , train: 99.455  | test: 97.2  | loss: 0.020917301886947827\n",
      "8000 , train: 99.425  | test: 97.9  | loss: 0.02127302805776708\n",
      "8200 , train: 99.405  | test: 98.0  | loss: 0.02351761168218218\n",
      "8400 , train: 99.605  | test: 98.1  | loss: 0.016952694743522442\n",
      "8600 , train: 99.505  | test: 97.1  | loss: 0.018871547270100562\n",
      "8800 , train: 99.48  | test: 97.9  | loss: 0.020287836847128347\n",
      "9000 , train: 99.695  | test: 97.8  | loss: 0.014552533067180774\n",
      "9200 , train: 99.515  | test: 97.5  | loss: 0.016907663106685504\n",
      "9400 , train: 99.51  | test: 98.3  | loss: 0.018909720042720436\n",
      "9600 , train: 99.64  | test: 97.3  | loss: 0.013600360215059481\n",
      "9800 , train: 99.695  | test: 97.2  | loss: 0.013604432903812268\n"
     ]
    }
   ],
   "source": [
    "num_steps = 10000\n",
    "summary_freq= 200\n",
    "n_test_logg= 10 # number of evaluations on test dataset (for logging information)\n",
    "\n",
    "tf.global_variables_initializer().run()\n",
    "print('Initialized')\n",
    "\n",
    "# lists for plotting\n",
    "l_epoch = []\n",
    "l_train_accuracy = []\n",
    "l_test_accuracy = []\n",
    "\n",
    "mean_loss= 0\n",
    "train_accuracy= 0\n",
    "# Perform num_steps training steps\n",
    "for step in range(num_steps):\n",
    "    # Get next batch of 100 images\n",
    "    batch_X, batch_y= mnist.train.next_batch(batch_size)    \n",
    "    # Construct Feed dictionary that consist of the input data \n",
    "    # that is going to be feed into the computation graph\n",
    "    feed_dict = {inputs : batch_X, labels : batch_y}\n",
    "    # Call the optimizer to perform one step of the training\n",
    "    _, l, train_pred = sess.run([optimizer, loss, yp],feed_dict=feed_dict)\n",
    "    \n",
    "    train_accuracy += accuracy(train_pred, batch_y)\n",
    "    mean_loss += l    \n",
    "    if step%summary_freq == 0:\n",
    "        # Obtain train accuracy\n",
    "        train_accuracy= train_accuracy/summary_freq\n",
    "        # Evaluate accuracy on test dataset\n",
    "        test_accuracy= 0\n",
    "        for i in range(n_test_logg):\n",
    "            batch_X_test, batch_y_test= mnist.test.next_batch(batch_size) \n",
    "            pred = yp.eval(feed_dict={inputs: batch_X_test})\n",
    "            test_accuracy += accuracy(pred, batch_y_test)\n",
    "        test_accuracy= test_accuracy/n_test_logg\n",
    "        \n",
    "        l_epoch.append(step)\n",
    "        l_train_accuracy.append(train_accuracy)\n",
    "        l_test_accuracy.append(test_accuracy)\n",
    "            \n",
    "        print(step, ', train:',train_accuracy,' | test:', test_accuracy, ' | loss:', mean_loss/summary_freq)\n",
    "        mean_loss= 0\n",
    "        train_accuracy= 0"
   ]
  },
  {
   "cell_type": "markdown",
   "metadata": {},
   "source": [
    "## Test the model using testing dataset"
   ]
  },
  {
   "cell_type": "code",
   "execution_count": 16,
   "metadata": {},
   "outputs": [
    {
     "name": "stdout",
     "output_type": "stream",
     "text": [
      "Actual number: 3\n",
      "Prediction by the model: 3\n"
     ]
    },
    {
     "data": {
      "text/plain": [
       "<matplotlib.image.AxesImage at 0x12c4abf60>"
      ]
     },
     "execution_count": 16,
     "metadata": {},
     "output_type": "execute_result"
    },
    {
     "data": {
      "image/png": "[encoded data removed]",
      "text/plain": [
       "<Figure size 432x288 with 1 Axes>"
      ]
     },
     "metadata": {
      "needs_background": "light"
     },
     "output_type": "display_data"
    }
   ],
   "source": [
    "# Acquire one sample from the mnist dataset\n",
    "test_sample_x, test_sample_y= mnist.test.next_batch(1) \n",
    "\n",
    "# Get a prediction for this sample\n",
    "pred = yp.eval(feed_dict={inputs: test_sample_x})\n",
    "\n",
    "print('Actual number:', np.argmax(test_sample_y))\n",
    "print('Prediction by the model:', np.argmax(pred))\n",
    "\n",
    "# plot\n",
    "plt.imshow(np.reshape(test_sample_x, [28,28]))"
   ]
  },
  {
   "cell_type": "code",
   "execution_count": 17,
   "metadata": {},
   "outputs": [
    {
     "data": {
      "text/plain": [
       "[<matplotlib.lines.Line2D at 0x10cf0e400>]"
      ]
     },
     "execution_count": 17,
     "metadata": {},
     "output_type": "execute_result"
    },
    {
     "data": {
      "image/png": "[encoded data removed]",
      "text/plain": [
       "<Figure size 432x288 with 1 Axes>"
      ]
     },
     "metadata": {
      "needs_background": "light"
     },
     "output_type": "display_data"
    }
   ],
   "source": [
    "plt.plot(l_epoch, l_train_accuracy, label=\"Training Accuracy\")\n",
    "plt.plot(l_epoch, l_test_accuracy, label=\"Testing Accuracy\")"
   ]
  },
  {
   "cell_type": "code",
   "execution_count": null,
   "metadata": {},
   "outputs": [],
   "source": []
  }
 ],
 "metadata": {
  "kernelspec": {
   "display_name": "Python 3",
   "language": "python",
   "name": "python3"
  },
  "language_info": {
   "codemirror_mode": {
    "name": "ipython",
    "version": 3
   },
   "file_extension": ".py",
   "mimetype": "text/x-python",
   "name": "python",
   "nbconvert_exporter": "python",
   "pygments_lexer": "ipython3",
   "version": "3.7.2"
  },
  "toc": {
   "colors": {
    "hover_highlight": "#DAA520",
    "navigate_num": "#000000",
    "navigate_text": "#333333",
    "running_highlight": "#FF0000",
    "selected_highlight": "#FFD700",
    "sidebar_border": "#EEEEEE",
    "wrapper_background": "#FFFFFF"
   },
   "moveMenuLeft": true,
   "nav_menu": {
    "height": "102px",
    "width": "252px"
   },
   "navigate_menu": true,
   "number_sections": true,
   "sideBar": true,
   "threshold": 4,
   "toc_cell": false,
   "toc_section_display": "block",
   "toc_window_display": false,
   "widenNotebook": false
  }
 },
 "nbformat": 4,
 "nbformat_minor": 2
}
